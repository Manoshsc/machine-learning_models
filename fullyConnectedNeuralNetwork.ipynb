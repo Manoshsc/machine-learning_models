{
  "nbformat": 4,
  "nbformat_minor": 0,
  "metadata": {
    "colab": {
      "provenance": []
    },
    "kernelspec": {
      "name": "python3",
      "display_name": "Python 3"
    },
    "language_info": {
      "name": "python"
    }
  },
  "cells": [
    {
      "cell_type": "code",
      "execution_count": null,
      "metadata": {
        "colab": {
          "base_uri": "https://localhost:8080/"
        },
        "id": "hPorBMuSGkEr",
        "outputId": "f2919894-3c20-4eaf-d60c-ab03851e3e4b"
      },
      "outputs": [
        {
          "output_type": "stream",
          "name": "stdout",
          "text": [
            "Requirement already satisfied: tensorflow in /usr/local/lib/python3.10/dist-packages (2.15.0)\n",
            "Requirement already satisfied: absl-py>=1.0.0 in /usr/local/lib/python3.10/dist-packages (from tensorflow) (1.4.0)\n",
            "Requirement already satisfied: astunparse>=1.6.0 in /usr/local/lib/python3.10/dist-packages (from tensorflow) (1.6.3)\n",
            "Requirement already satisfied: flatbuffers>=23.5.26 in /usr/local/lib/python3.10/dist-packages (from tensorflow) (23.5.26)\n",
            "Requirement already satisfied: gast!=0.5.0,!=0.5.1,!=0.5.2,>=0.2.1 in /usr/local/lib/python3.10/dist-packages (from tensorflow) (0.5.4)\n",
            "Requirement already satisfied: google-pasta>=0.1.1 in /usr/local/lib/python3.10/dist-packages (from tensorflow) (0.2.0)\n",
            "Requirement already satisfied: h5py>=2.9.0 in /usr/local/lib/python3.10/dist-packages (from tensorflow) (3.9.0)\n",
            "Requirement already satisfied: libclang>=13.0.0 in /usr/local/lib/python3.10/dist-packages (from tensorflow) (16.0.6)\n",
            "Requirement already satisfied: ml-dtypes~=0.2.0 in /usr/local/lib/python3.10/dist-packages (from tensorflow) (0.2.0)\n",
            "Requirement already satisfied: numpy<2.0.0,>=1.23.5 in /usr/local/lib/python3.10/dist-packages (from tensorflow) (1.25.2)\n",
            "Requirement already satisfied: opt-einsum>=2.3.2 in /usr/local/lib/python3.10/dist-packages (from tensorflow) (3.3.0)\n",
            "Requirement already satisfied: packaging in /usr/local/lib/python3.10/dist-packages (from tensorflow) (23.2)\n",
            "Requirement already satisfied: protobuf!=4.21.0,!=4.21.1,!=4.21.2,!=4.21.3,!=4.21.4,!=4.21.5,<5.0.0dev,>=3.20.3 in /usr/local/lib/python3.10/dist-packages (from tensorflow) (3.20.3)\n",
            "Requirement already satisfied: setuptools in /usr/local/lib/python3.10/dist-packages (from tensorflow) (67.7.2)\n",
            "Requirement already satisfied: six>=1.12.0 in /usr/local/lib/python3.10/dist-packages (from tensorflow) (1.16.0)\n",
            "Requirement already satisfied: termcolor>=1.1.0 in /usr/local/lib/python3.10/dist-packages (from tensorflow) (2.4.0)\n",
            "Requirement already satisfied: typing-extensions>=3.6.6 in /usr/local/lib/python3.10/dist-packages (from tensorflow) (4.10.0)\n",
            "Requirement already satisfied: wrapt<1.15,>=1.11.0 in /usr/local/lib/python3.10/dist-packages (from tensorflow) (1.14.1)\n",
            "Requirement already satisfied: tensorflow-io-gcs-filesystem>=0.23.1 in /usr/local/lib/python3.10/dist-packages (from tensorflow) (0.36.0)\n",
            "Requirement already satisfied: grpcio<2.0,>=1.24.3 in /usr/local/lib/python3.10/dist-packages (from tensorflow) (1.62.0)\n",
            "Requirement already satisfied: tensorboard<2.16,>=2.15 in /usr/local/lib/python3.10/dist-packages (from tensorflow) (2.15.2)\n",
            "Requirement already satisfied: tensorflow-estimator<2.16,>=2.15.0 in /usr/local/lib/python3.10/dist-packages (from tensorflow) (2.15.0)\n",
            "Requirement already satisfied: keras<2.16,>=2.15.0 in /usr/local/lib/python3.10/dist-packages (from tensorflow) (2.15.0)\n",
            "Requirement already satisfied: wheel<1.0,>=0.23.0 in /usr/local/lib/python3.10/dist-packages (from astunparse>=1.6.0->tensorflow) (0.42.0)\n",
            "Requirement already satisfied: google-auth<3,>=1.6.3 in /usr/local/lib/python3.10/dist-packages (from tensorboard<2.16,>=2.15->tensorflow) (2.27.0)\n",
            "Requirement already satisfied: google-auth-oauthlib<2,>=0.5 in /usr/local/lib/python3.10/dist-packages (from tensorboard<2.16,>=2.15->tensorflow) (1.2.0)\n",
            "Requirement already satisfied: markdown>=2.6.8 in /usr/local/lib/python3.10/dist-packages (from tensorboard<2.16,>=2.15->tensorflow) (3.5.2)\n",
            "Requirement already satisfied: requests<3,>=2.21.0 in /usr/local/lib/python3.10/dist-packages (from tensorboard<2.16,>=2.15->tensorflow) (2.31.0)\n",
            "Requirement already satisfied: tensorboard-data-server<0.8.0,>=0.7.0 in /usr/local/lib/python3.10/dist-packages (from tensorboard<2.16,>=2.15->tensorflow) (0.7.2)\n",
            "Requirement already satisfied: werkzeug>=1.0.1 in /usr/local/lib/python3.10/dist-packages (from tensorboard<2.16,>=2.15->tensorflow) (3.0.1)\n",
            "Requirement already satisfied: cachetools<6.0,>=2.0.0 in /usr/local/lib/python3.10/dist-packages (from google-auth<3,>=1.6.3->tensorboard<2.16,>=2.15->tensorflow) (5.3.3)\n",
            "Requirement already satisfied: pyasn1-modules>=0.2.1 in /usr/local/lib/python3.10/dist-packages (from google-auth<3,>=1.6.3->tensorboard<2.16,>=2.15->tensorflow) (0.3.0)\n",
            "Requirement already satisfied: rsa<5,>=3.1.4 in /usr/local/lib/python3.10/dist-packages (from google-auth<3,>=1.6.3->tensorboard<2.16,>=2.15->tensorflow) (4.9)\n",
            "Requirement already satisfied: requests-oauthlib>=0.7.0 in /usr/local/lib/python3.10/dist-packages (from google-auth-oauthlib<2,>=0.5->tensorboard<2.16,>=2.15->tensorflow) (1.3.1)\n",
            "Requirement already satisfied: charset-normalizer<4,>=2 in /usr/local/lib/python3.10/dist-packages (from requests<3,>=2.21.0->tensorboard<2.16,>=2.15->tensorflow) (3.3.2)\n",
            "Requirement already satisfied: idna<4,>=2.5 in /usr/local/lib/python3.10/dist-packages (from requests<3,>=2.21.0->tensorboard<2.16,>=2.15->tensorflow) (3.6)\n",
            "Requirement already satisfied: urllib3<3,>=1.21.1 in /usr/local/lib/python3.10/dist-packages (from requests<3,>=2.21.0->tensorboard<2.16,>=2.15->tensorflow) (2.0.7)\n",
            "Requirement already satisfied: certifi>=2017.4.17 in /usr/local/lib/python3.10/dist-packages (from requests<3,>=2.21.0->tensorboard<2.16,>=2.15->tensorflow) (2024.2.2)\n",
            "Requirement already satisfied: MarkupSafe>=2.1.1 in /usr/local/lib/python3.10/dist-packages (from werkzeug>=1.0.1->tensorboard<2.16,>=2.15->tensorflow) (2.1.5)\n",
            "Requirement already satisfied: pyasn1<0.6.0,>=0.4.6 in /usr/local/lib/python3.10/dist-packages (from pyasn1-modules>=0.2.1->google-auth<3,>=1.6.3->tensorboard<2.16,>=2.15->tensorflow) (0.5.1)\n",
            "Requirement already satisfied: oauthlib>=3.0.0 in /usr/local/lib/python3.10/dist-packages (from requests-oauthlib>=0.7.0->google-auth-oauthlib<2,>=0.5->tensorboard<2.16,>=2.15->tensorflow) (3.2.2)\n"
          ]
        }
      ],
      "source": [
        "!pip install tensorflow"
      ]
    },
    {
      "cell_type": "code",
      "source": [
        "# Sequential API to Create Models\n",
        "from keras.models import Sequential\n",
        "\n",
        "# Components to create a model\n",
        "from keras.layers import Dense , Input\n",
        "\n",
        "# Stochastic Gradient Desent Algorithm\n",
        "from keras.optimizers import SGD\n",
        "\n",
        "# keras already hosted MNIST dataset\n",
        "from keras.datasets import mnist\n",
        "\n",
        "# AN keras utility to binarize integers\n",
        "from keras.utils import to_categorical\n",
        "\n",
        "# An keras utility to visualize model graph\n",
        "from keras.utils import plot_model\n",
        "\n",
        "#Another ML library that has many utilities for image operations\n",
        "import skimage\n",
        "\n",
        "#one of the utility of skimage\n",
        "from skimage.io import imshow\n",
        "\n",
        "import matplotlib.pyplot as plt\n",
        "import numpy as np"
      ],
      "metadata": {
        "id": "TnfRv_v4GuDl"
      },
      "execution_count": null,
      "outputs": []
    },
    {
      "cell_type": "markdown",
      "source": [
        "#Hyperparameters"
      ],
      "metadata": {
        "id": "sDp9OcXZKfNd"
      }
    },
    {
      "cell_type": "code",
      "source": [
        "#whole datasets splits into batches\n",
        "batch_size = 128\n",
        "\n",
        "#Number of labels of our dataset\n",
        "nb_classes = 10\n",
        "\n",
        "#Number of times we want to train the model\n",
        "nb_epoch = 10"
      ],
      "metadata": {
        "id": "WUzqUsa-G84f"
      },
      "execution_count": null,
      "outputs": []
    },
    {
      "cell_type": "markdown",
      "source": [
        "#Load Data"
      ],
      "metadata": {
        "id": "FSktEjgaLdlO"
      }
    },
    {
      "cell_type": "code",
      "source": [
        "# load MNIST dataset\n",
        "# Data split into two subset : Training and Test\n",
        "(X_train,Y_train),(X_test,Y_test) = mnist.load_data()"
      ],
      "metadata": {
        "id": "6D-k2XeHLc31",
        "colab": {
          "base_uri": "https://localhost:8080/"
        },
        "outputId": "446a4912-0bc7-4602-c0be-422df7447a28"
      },
      "execution_count": null,
      "outputs": [
        {
          "output_type": "stream",
          "name": "stdout",
          "text": [
            "Downloading data from https://storage.googleapis.com/tensorflow/tf-keras-datasets/mnist.npz\n",
            "11490434/11490434 [==============================] - 0s 0us/step\n"
          ]
        }
      ]
    },
    {
      "cell_type": "code",
      "source": [
        "print(len(X_train))\n",
        "print(len(Y_train))"
      ],
      "metadata": {
        "colab": {
          "base_uri": "https://localhost:8080/"
        },
        "id": "EO8PPuPaMNr6",
        "outputId": "9e590cd0-4e2a-43bc-b0a5-a69d17660af3"
      },
      "execution_count": null,
      "outputs": [
        {
          "output_type": "stream",
          "name": "stdout",
          "text": [
            "60000\n",
            "60000\n"
          ]
        }
      ]
    },
    {
      "cell_type": "code",
      "source": [
        "X_train.shape"
      ],
      "metadata": {
        "colab": {
          "base_uri": "https://localhost:8080/"
        },
        "id": "yM8IjYhoMYYC",
        "outputId": "b1a57f38-3a6b-4522-b982-8569531e73e4"
      },
      "execution_count": null,
      "outputs": [
        {
          "output_type": "execute_result",
          "data": {
            "text/plain": [
              "(60000, 28, 28)"
            ]
          },
          "metadata": {},
          "execution_count": 5
        }
      ]
    },
    {
      "cell_type": "code",
      "source": [
        "Y_train.shape"
      ],
      "metadata": {
        "colab": {
          "base_uri": "https://localhost:8080/"
        },
        "id": "mrVu-n7gMbbg",
        "outputId": "d047f134-f6fb-4a5e-eda2-6dd80cdfd8c0"
      },
      "execution_count": null,
      "outputs": [
        {
          "output_type": "execute_result",
          "data": {
            "text/plain": [
              "(60000,)"
            ]
          },
          "metadata": {},
          "execution_count": 6
        }
      ]
    },
    {
      "cell_type": "code",
      "source": [
        "X_test.shape\n"
      ],
      "metadata": {
        "colab": {
          "base_uri": "https://localhost:8080/"
        },
        "id": "dYgZW8B-gL6Q",
        "outputId": "71ba694c-b9f2-4a24-d37f-3005b16c0cc4"
      },
      "execution_count": null,
      "outputs": [
        {
          "output_type": "execute_result",
          "data": {
            "text/plain": [
              "(10000, 28, 28)"
            ]
          },
          "metadata": {},
          "execution_count": 7
        }
      ]
    },
    {
      "cell_type": "markdown",
      "source": [
        "#Visualize Data"
      ],
      "metadata": {
        "id": "QzdFW2pPAdTL"
      }
    },
    {
      "cell_type": "code",
      "source": [
        "randomimage=X_train[1000]\n",
        "imshow(randomimage)"
      ],
      "metadata": {
        "id": "kB39YMztgQLf",
        "colab": {
          "base_uri": "https://localhost:8080/",
          "height": 504
        },
        "outputId": "19ff2051-27d6-4b52-cea3-1ec12a6c0068"
      },
      "execution_count": null,
      "outputs": [
        {
          "output_type": "execute_result",
          "data": {
            "text/plain": [
              "<matplotlib.image.AxesImage at 0x7f1c89fc25f0>"
            ]
          },
          "metadata": {},
          "execution_count": 8
        },
        {
          "output_type": "display_data",
          "data": {
            "text/plain": [
              "<Figure size 640x480 with 1 Axes>"
            ],
            "image/png": "[encoded data removed]"
          },
          "metadata": {}
        }
      ]
    },
    {
      "cell_type": "code",
      "source": [
        "print(randomimage)"
      ],
      "metadata": {
        "id": "BuAHWlvoBaik",
        "colab": {
          "base_uri": "https://localhost:8080/"
        },
        "outputId": "8f4da2f6-a828-4041-86bd-a6fb37b2850c"
      },
      "execution_count": null,
      "outputs": [
        {
          "output_type": "stream",
          "name": "stdout",
          "text": [
            "[[  0   0   0   0   0   0   0   0   0   0   0   0   0   0   0   0   0   0\n",
            "    0   0   0   0   0   0   0   0   0   0]\n",
            " [  0   0   0   0   0   0   0   0   0   0   0   0   0   0   0   0   0   0\n",
            "    0   0   0   0   0   0   0   0   0   0]\n",
            " [  0   0   0   0   0   0   0   0   0   0   0   0   0   0   0   0   0   0\n",
            "    0   0   0   0   0   0   0   0   0   0]\n",
            " [  0   0   0   0   0   0   0   0   0   0   0   0   0   0   0   0   0   0\n",
            "    0   0   0   0   0   0   0   0   0   0]\n",
            " [  0   0   0   0   0   0   0   0   0   0   0   0   0   0   0   0   0   0\n",
            "    0   0   0   0   0   0   0   0   0   0]\n",
            " [  0   0   0   0   0   0   0   0   0   0   0   0   0   0  36 146 254 255\n",
            "  251  95   6   0   0   0   0   0   0   0]\n",
            " [  0   0   0   0   0   0   0   0   0   0   0   0   3  97 234 254 254 232\n",
            "  254 254  35   0   0   0   0   0   0   0]\n",
            " [  0   0   0   0   0   0   0   0   0   0   0  89 140 254 254 174  67  33\n",
            "  200 254 190   0   0   0   0   0   0   0]\n",
            " [  0   0   0   0   0   0   0   0   0   0 108 253 254 235  51   1   0   0\n",
            "   12 254 253  56   0   0   0   0   0   0]\n",
            " [  0   0   0   0   0   0   0   0   0  12 216 254 244  55   0   0   0   0\n",
            "    6 213 254  57   0   0   0   0   0   0]\n",
            " [  0   0   0   0   0   0   0   0   0  25 254 254 132   0   0   0   0   0\n",
            "    0 168 254  57   0   0   0   0   0   0]\n",
            " [  0   0   0   0   0   0   0   0   0  45 254 243  34   0   0   0   0   0\n",
            "    0 168 254  57   0   0   0   0   0   0]\n",
            " [  0   0   0   0   0   0   0   0   0 128 254 157   0   0   0   0   0   0\n",
            "    0 168 254  57   0   0   0   0   0   0]\n",
            " [  0   0   0   0   0   0   0   0  19 228 254 105   0   0   0   0   0   0\n",
            "    7 228 254  57   0   0   0   0   0   0]\n",
            " [  0   0   0   0   0   0   0   0  58 254 254  87   0   0   0   0   0   0\n",
            "   10 254 246  47   0   0   0   0   0   0]\n",
            " [  0   0   0   0   0   0   0   0  58 254 254   9   0   0   0   0   0   0\n",
            "   10 254 210   0   0   0   0   0   0   0]\n",
            " [  0   0   0   0   0   0   0   0  58 254 254   9   0   0   0   0   0   0\n",
            "  105 254  91   0   0   0   0   0   0   0]\n",
            " [  0   0   0   0   0   0   0   0   5 219 254   9   0   0   0   0   0  24\n",
            "  230 254  24   0   0   0   0   0   0   0]\n",
            " [  0   0   0   0   0   0   0   0   0 216 254   9   0   0   0   0   0  84\n",
            "  254 251  23   0   0   0   0   0   0   0]\n",
            " [  0   0   0   0   0   0   0   0   0 216 254  36   0   0   0   0  22 208\n",
            "  251  94   0   0   0   0   0   0   0   0]\n",
            " [  0   0   0   0   0   0   0   0   0 129 254 120   0   0   0   3 140 254\n",
            "  229   0   0   0   0   0   0   0   0   0]\n",
            " [  0   0   0   0   0   0   0   0   0  83 254 222  17   0   0  91 254 236\n",
            "   53   0   0   0   0   0   0   0   0   0]\n",
            " [  0   0   0   0   0   0   0   0   0  18 235 254 134  21 119 237 254 124\n",
            "    0   0   0   0   0   0   0   0   0   0]\n",
            " [  0   0   0   0   0   0   0   0   0   0  53 249 254 234 252 254 172   3\n",
            "    0   0   0   0   0   0   0   0   0   0]\n",
            " [  0   0   0   0   0   0   0   0   0   0   0 116 237 254 254 133  20   0\n",
            "    0   0   0   0   0   0   0   0   0   0]\n",
            " [  0   0   0   0   0   0   0   0   0   0   0   0   0   0   0   0   0   0\n",
            "    0   0   0   0   0   0   0   0   0   0]\n",
            " [  0   0   0   0   0   0   0   0   0   0   0   0   0   0   0   0   0   0\n",
            "    0   0   0   0   0   0   0   0   0   0]\n",
            " [  0   0   0   0   0   0   0   0   0   0   0   0   0   0   0   0   0   0\n",
            "    0   0   0   0   0   0   0   0   0   0]]\n"
          ]
        }
      ]
    },
    {
      "cell_type": "code",
      "source": [
        "#define figure size\n",
        "plt.figure(figsize=(10,10))\n",
        "\n",
        "for i in range(9):\n",
        "  ax = plt.subplot(3,3,i+1)\n",
        "\n",
        "  an_image = X_train[i]\n",
        "  plt.imshow(an_image)\n",
        "  plt.title(int(Y_train[i]))\n",
        "  plt.axis(\"off\")\n",
        "\n"
      ],
      "metadata": {
        "colab": {
          "base_uri": "https://localhost:8080/",
          "height": 829
        },
        "id": "BF1zJmbcBirK",
        "outputId": "aebd5f5e-38cd-47f1-bd3f-2298051066d6"
      },
      "execution_count": null,
      "outputs": [
        {
          "output_type": "display_data",
          "data": {
            "text/plain": [
              "<Figure size 1000x1000 with 9 Axes>"
            ],
            "image/png": "[encoded data removed]"
          },
          "metadata": {}
        }
      ]
    },
    {
      "cell_type": "markdown",
      "source": [
        "#Reshape and Flatten Data"
      ],
      "metadata": {
        "id": "TXRItzU2D1XR"
      }
    },
    {
      "cell_type": "code",
      "source": [
        "print(\"shape of trainning data:\",X_train.shape)\n",
        "print(\"shape of trainning sample\",X_train[0].shape)"
      ],
      "metadata": {
        "colab": {
          "base_uri": "https://localhost:8080/"
        },
        "id": "lboM4LUGCcef",
        "outputId": "baefcb93-b7ad-418f-8300-38f0610e0e49"
      },
      "execution_count": null,
      "outputs": [
        {
          "output_type": "stream",
          "name": "stdout",
          "text": [
            "shape of trainning data: (60000, 28, 28)\n",
            "shape of trainning sample (28, 28)\n"
          ]
        }
      ]
    },
    {
      "cell_type": "code",
      "source": [
        "an_image=X_train[0]\n",
        "print(an_image.shape)\n",
        "\n",
        "#define new shape and flatten the image\n",
        "new_shape = 28*28\n",
        "flatten_an_image = an_image.reshape(new_shape,)\n",
        "\n",
        "print(\"shape of flatten Image: \",flatten_an_image.shape)"
      ],
      "metadata": {
        "colab": {
          "base_uri": "https://localhost:8080/"
        },
        "id": "pGAA4vT-ENvI",
        "outputId": "542b2a92-34ca-4450-8358-be9e68bdf2af"
      },
      "execution_count": null,
      "outputs": [
        {
          "output_type": "stream",
          "name": "stdout",
          "text": [
            "(28, 28)\n",
            "shape of flatten Image:  (784,)\n"
          ]
        }
      ]
    },
    {
      "cell_type": "code",
      "source": [
        "print(\"previous shape of X_train: \",X_train.shape)\n",
        "\n",
        "#flatten the whole dataset\n",
        "X_train = X_train.reshape(60000,784)\n",
        "\n",
        "print(\"new shape of X_train: \",X_train.shape)"
      ],
      "metadata": {
        "colab": {
          "base_uri": "https://localhost:8080/"
        },
        "id": "jJTVbOAxE5pt",
        "outputId": "31fd215c-d9b8-432c-d544-6740c8d94db4"
      },
      "execution_count": null,
      "outputs": [
        {
          "output_type": "stream",
          "name": "stdout",
          "text": [
            "previous shape of X_train:  (60000, 28, 28)\n",
            "new shape of X_train:  (60000, 784)\n"
          ]
        }
      ]
    },
    {
      "cell_type": "code",
      "source": [
        "print(\"previous shape of X_train: \",X_test.shape)\n",
        "\n",
        "#flatten the whole dataset\n",
        "X_test = X_test.reshape(10000,784)\n",
        "\n",
        "print(\"new shape of X_train: \",X_test.shape)"
      ],
      "metadata": {
        "colab": {
          "base_uri": "https://localhost:8080/"
        },
        "id": "1tuBrabUFbDx",
        "outputId": "83197564-af9c-41dc-b3f4-15eb99f13d9f"
      },
      "execution_count": null,
      "outputs": [
        {
          "output_type": "stream",
          "name": "stdout",
          "text": [
            "previous shape of X_train:  (10000, 28, 28)\n",
            "new shape of X_train:  (10000, 784)\n"
          ]
        }
      ]
    },
    {
      "cell_type": "code",
      "source": [
        "#inquire data type\n",
        "print(X_train.dtype)\n",
        "print(X_test.dtype)\n",
        "\n",
        "#change the datatype\n",
        "X_train = X_train.astype('float32')\n",
        "X_test = X_test.astype('float32')\n",
        "\n",
        "#new data type\n",
        "print('new datatype: ',X_train.dtype)\n",
        "print('new datatype: ',X_test.dtype)\n"
      ],
      "metadata": {
        "colab": {
          "base_uri": "https://localhost:8080/"
        },
        "id": "ZjeMIJ-gGAeM",
        "outputId": "dd6f77f3-1492-432b-c25d-987dbc3b96e8"
      },
      "execution_count": null,
      "outputs": [
        {
          "output_type": "stream",
          "name": "stdout",
          "text": [
            "uint8\n",
            "uint8\n",
            "new datatype:  float32\n",
            "new datatype:  float32\n"
          ]
        }
      ]
    },
    {
      "cell_type": "markdown",
      "source": [
        "#Rescaling Data\n"
      ],
      "metadata": {
        "id": "bwQavlGpHJ10"
      }
    },
    {
      "cell_type": "code",
      "source": [
        "#Get a rnadom sample\n",
        "a_sample = X_train[0]\n",
        "\n",
        "print(\"min value of sample: \", a_sample.min())\n",
        "print(\"max value of sample: \", a_sample.max())"
      ],
      "metadata": {
        "colab": {
          "base_uri": "https://localhost:8080/"
        },
        "id": "MMiYKZdHGg_2",
        "outputId": "e33c6384-8527-4872-a175-ca42f1ea55b2"
      },
      "execution_count": null,
      "outputs": [
        {
          "output_type": "stream",
          "name": "stdout",
          "text": [
            "min value of sample:  0.0\n",
            "max value of sample:  255.0\n"
          ]
        }
      ]
    },
    {
      "cell_type": "code",
      "source": [
        "#devide each value in train and test data by 255\n",
        "X_train /= 255\n",
        "X_test /= 255"
      ],
      "metadata": {
        "id": "sBR7Z2SGHlaX"
      },
      "execution_count": null,
      "outputs": []
    },
    {
      "cell_type": "code",
      "source": [
        "a_sample = X_train[0]\n",
        "\n",
        "print(\"min value of sample: \", a_sample.min())\n",
        "print(\"max value of sample: \", a_sample.max())"
      ],
      "metadata": {
        "colab": {
          "base_uri": "https://localhost:8080/"
        },
        "id": "ovAVYYjOH0MN",
        "outputId": "57e970ed-e7eb-4bea-cea2-076fc85160dc"
      },
      "execution_count": null,
      "outputs": [
        {
          "output_type": "stream",
          "name": "stdout",
          "text": [
            "min value of sample:  0.0\n",
            "max value of sample:  1.0\n"
          ]
        }
      ]
    },
    {
      "cell_type": "markdown",
      "source": [
        "#Binarize labels"
      ],
      "metadata": {
        "id": "1gu3KltHIDy_"
      }
    },
    {
      "cell_type": "code",
      "source": [
        "#Display the trainning labels\n",
        "Y_train"
      ],
      "metadata": {
        "id": "15wDyOvuH31e",
        "colab": {
          "base_uri": "https://localhost:8080/"
        },
        "outputId": "65ec00fe-16f5-4dae-adba-ec481a9f4109"
      },
      "execution_count": null,
      "outputs": [
        {
          "output_type": "execute_result",
          "data": {
            "text/plain": [
              "array([5, 0, 4, ..., 5, 6, 8], dtype=uint8)"
            ]
          },
          "metadata": {},
          "execution_count": 19
        }
      ]
    },
    {
      "cell_type": "code",
      "source": [
        "# shape of trainning label\n",
        "Y_train.shape"
      ],
      "metadata": {
        "colab": {
          "base_uri": "https://localhost:8080/"
        },
        "id": "ogb8d_Fux_WE",
        "outputId": "b9f0011b-11cc-4812-e3c2-ea7db0ac71ef"
      },
      "execution_count": null,
      "outputs": [
        {
          "output_type": "execute_result",
          "data": {
            "text/plain": [
              "(60000,)"
            ]
          },
          "metadata": {},
          "execution_count": 20
        }
      ]
    },
    {
      "cell_type": "code",
      "source": [
        "#A random Array\n",
        "input_array = np.array([0,1,2,3,4,5,6,7,8,9])\n",
        "print(input_array)\n",
        "\n",
        "#apply to categorical to the random array\n",
        "output = to_categorical(input_array, num_classes=10)\n",
        "\n",
        "print(output)\n",
        "print(\"Input list shape\",input_array.shape)"
      ],
      "metadata": {
        "colab": {
          "base_uri": "https://localhost:8080/"
        },
        "id": "Uc_Wbm9DyOJ3",
        "outputId": "f79e44da-a793-4c64-ca1c-63916f4e2a6d"
      },
      "execution_count": null,
      "outputs": [
        {
          "output_type": "stream",
          "name": "stdout",
          "text": [
            "[0 1 2 3 4 5 6 7 8 9]\n",
            "[[1. 0. 0. 0. 0. 0. 0. 0. 0. 0.]\n",
            " [0. 1. 0. 0. 0. 0. 0. 0. 0. 0.]\n",
            " [0. 0. 1. 0. 0. 0. 0. 0. 0. 0.]\n",
            " [0. 0. 0. 1. 0. 0. 0. 0. 0. 0.]\n",
            " [0. 0. 0. 0. 1. 0. 0. 0. 0. 0.]\n",
            " [0. 0. 0. 0. 0. 1. 0. 0. 0. 0.]\n",
            " [0. 0. 0. 0. 0. 0. 1. 0. 0. 0.]\n",
            " [0. 0. 0. 0. 0. 0. 0. 1. 0. 0.]\n",
            " [0. 0. 0. 0. 0. 0. 0. 0. 1. 0.]\n",
            " [0. 0. 0. 0. 0. 0. 0. 0. 0. 1.]]\n",
            "Input list shape (10,)\n"
          ]
        }
      ]
    },
    {
      "cell_type": "code",
      "source": [
        "#Apply to_categorical to train labels\n",
        "Y_train = to_categorical(Y_train,nb_classes)\n",
        "\n",
        "#Apply to_categorical to test labels\n",
        "Y_test = to_categorical(Y_test,nb_classes)"
      ],
      "metadata": {
        "id": "HNI2Zw5u47yw"
      },
      "execution_count": null,
      "outputs": []
    },
    {
      "cell_type": "code",
      "source": [
        "Y_train"
      ],
      "metadata": {
        "colab": {
          "base_uri": "https://localhost:8080/"
        },
        "id": "wHsxtLQa_zaQ",
        "outputId": "36191a4c-34ec-47cd-fd16-5845a4233b16"
      },
      "execution_count": null,
      "outputs": [
        {
          "output_type": "execute_result",
          "data": {
            "text/plain": [
              "array([[0., 0., 0., ..., 0., 0., 0.],\n",
              "       [1., 0., 0., ..., 0., 0., 0.],\n",
              "       [0., 0., 0., ..., 0., 0., 0.],\n",
              "       ...,\n",
              "       [0., 0., 0., ..., 0., 0., 0.],\n",
              "       [0., 0., 0., ..., 0., 0., 0.],\n",
              "       [0., 0., 0., ..., 0., 1., 0.]], dtype=float32)"
            ]
          },
          "metadata": {},
          "execution_count": 24
        }
      ]
    },
    {
      "cell_type": "markdown",
      "source": [
        "#Define Model"
      ],
      "metadata": {
        "id": "2hNICprb_5IO"
      }
    },
    {
      "cell_type": "code",
      "source": [
        "# we want to create a sequentially stacked model using Keras sequential API\n",
        "model = Sequential()\n",
        "\n",
        "# Set up input layer\n",
        "model.add(Input(shape=(784,)))\n",
        "\n",
        "#1st Layer in the model to recieve inputs\n",
        "model.add(Dense(784, activation='relu'))\n",
        "\n",
        "#Hidden Layer\n",
        "model.add(Dense(625, activation='relu'))\n",
        "\n",
        "#Output Layer\n",
        "model.add(Dense(10, activation='softmax'))"
      ],
      "metadata": {
        "id": "JLV_-CbG_19f"
      },
      "execution_count": null,
      "outputs": []
    },
    {
      "cell_type": "markdown",
      "source": [
        "#Compile Model"
      ],
      "metadata": {
        "id": "01DEdFywEiSu"
      }
    },
    {
      "cell_type": "code",
      "source": [
        "# choose learning rate\n",
        "learning_rate=0.001\n",
        "\n",
        "# Select optimizer\n",
        "Optimizer = SGD(learning_rate = learning_rate)\n",
        "\n",
        "#Select loss Function\n",
        "loss='categorical_crossentropy'\n",
        "\n",
        "#Select evaluation matrics\n",
        "metrics = ['accuracy']\n",
        "\n",
        "#Model compilation\n",
        "model.compile(optimizer=Optimizer, loss=loss, metrics=metrics)"
      ],
      "metadata": {
        "id": "uxgNcFlzEWjg"
      },
      "execution_count": null,
      "outputs": []
    },
    {
      "cell_type": "markdown",
      "source": [
        "#Visualize model\n"
      ],
      "metadata": {
        "id": "mW1N9LdTHmYF"
      }
    },
    {
      "cell_type": "code",
      "source": [
        "# A summary of inputs, outputs in each layer\n",
        "model.summary()"
      ],
      "metadata": {
        "colab": {
          "base_uri": "https://localhost:8080/"
        },
        "id": "XbLocSOrHepm",
        "outputId": "838ace06-25b5-453e-9b02-afe8f4d0fb39"
      },
      "execution_count": null,
      "outputs": [
        {
          "output_type": "stream",
          "name": "stdout",
          "text": [
            "Model: \"sequential\"\n",
            "_________________________________________________________________\n",
            " Layer (type)                Output Shape              Param #   \n",
            "=================================================================\n",
            " dense (Dense)               (None, 784)               615440    \n",
            "                                                                 \n",
            " dense_1 (Dense)             (None, 625)               490625    \n",
            "                                                                 \n",
            " dense_2 (Dense)             (None, 10)                6260      \n",
            "                                                                 \n",
            "=================================================================\n",
            "Total params: 1112325 (4.24 MB)\n",
            "Trainable params: 1112325 (4.24 MB)\n",
            "Non-trainable params: 0 (0.00 Byte)\n",
            "_________________________________________________________________\n"
          ]
        }
      ]
    },
    {
      "cell_type": "code",
      "source": [
        "plot_model(model)"
      ],
      "metadata": {
        "colab": {
          "base_uri": "https://localhost:8080/",
          "height": 369
        },
        "id": "-kQlGm81HzKP",
        "outputId": "ee317552-efcd-4827-aa78-80044ed0f385"
      },
      "execution_count": null,
      "outputs": [
        {
          "output_type": "execute_result",
          "data": {
            "image/png": "[encoded data removed]",
            "text/plain": [
              "<IPython.core.display.Image object>"
            ]
          },
          "metadata": {},
          "execution_count": 30
        }
      ]
    },
    {
      "cell_type": "markdown",
      "source": [
        "#Model Training"
      ],
      "metadata": {
        "id": "0QPil4psL5Px"
      }
    },
    {
      "cell_type": "code",
      "source": [
        "#Train\n",
        "history = model.fit(X_train,Y_train,epochs=nb_epoch,batch_size=batch_size)\n"
      ],
      "metadata": {
        "colab": {
          "base_uri": "https://localhost:8080/"
        },
        "id": "GDjooznhLoRp",
        "outputId": "f2337195-861b-4041-c2cf-a9c7e5de4dd3"
      },
      "execution_count": null,
      "outputs": [
        {
          "output_type": "stream",
          "name": "stdout",
          "text": [
            "Epoch 1/10\n",
            "469/469 [==============================] - 13s 25ms/step - loss: 2.1199 - accuracy: 0.3632\n",
            "Epoch 2/10\n",
            "469/469 [==============================] - 10s 21ms/step - loss: 1.7557 - accuracy: 0.6894\n",
            "Epoch 3/10\n",
            "469/469 [==============================] - 12s 26ms/step - loss: 1.4189 - accuracy: 0.7606\n",
            "Epoch 4/10\n",
            "469/469 [==============================] - 11s 23ms/step - loss: 1.1412 - accuracy: 0.7975\n",
            "Epoch 5/10\n",
            "469/469 [==============================] - 11s 23ms/step - loss: 0.9404 - accuracy: 0.8217\n",
            "Epoch 6/10\n",
            "469/469 [==============================] - 11s 23ms/step - loss: 0.8028 - accuracy: 0.8373\n",
            "Epoch 7/10\n",
            "469/469 [==============================] - 11s 23ms/step - loss: 0.7074 - accuracy: 0.8487\n",
            "Epoch 8/10\n",
            "469/469 [==============================] - 10s 21ms/step - loss: 0.6390 - accuracy: 0.8571\n",
            "Epoch 9/10\n",
            "469/469 [==============================] - 11s 23ms/step - loss: 0.5880 - accuracy: 0.8633\n",
            "Epoch 10/10\n",
            "469/469 [==============================] - 11s 23ms/step - loss: 0.5486 - accuracy: 0.8684\n"
          ]
        }
      ]
    },
    {
      "cell_type": "markdown",
      "source": [
        "#Inference on Test Data"
      ],
      "metadata": {
        "id": "TzkdXZLUNMyz"
      }
    },
    {
      "cell_type": "code",
      "source": [
        "#Evaluate\n",
        "evaluation = model.evaluate(X_test,Y_test)\n",
        "\n",
        "#Display test statistics\n",
        "print(\"summary: loss over the test dataset: %2f, Accuracy: %2f\" % (evaluation[0]*100,evaluation[1]*100))"
      ],
      "metadata": {
        "colab": {
          "base_uri": "https://localhost:8080/"
        },
        "id": "zmWlYJXyMnf1",
        "outputId": "6f70e9ca-6b04-463f-caf4-7a8f3c1041d6"
      },
      "execution_count": null,
      "outputs": [
        {
          "output_type": "stream",
          "name": "stdout",
          "text": [
            "313/313 [==============================] - 3s 8ms/step - loss: 0.5084 - accuracy: 0.8786\n",
            "summary: loss over the test dataset: 50.837606, Accuracy: 87.860000\n"
          ]
        }
      ]
    },
    {
      "cell_type": "code",
      "source": [
        "#Get trainning loss histories\n",
        "training_loss = history.history['loss']\n",
        "\n",
        "# Create count of the number of epochs\n",
        "epoch_count = range(1, len(training_loss)+1)\n",
        "\n",
        "#Visualize loss history\n",
        "plt.plot(epoch_count,training_loss, 'r--')\n",
        "plt.legend(['Training loss'])\n",
        "plt.xlabel('Epoch')\n",
        "plt.ylabel('Loss')\n",
        "plt.show"
      ],
      "metadata": {
        "colab": {
          "base_uri": "https://localhost:8080/",
          "height": 619
        },
        "id": "cWNdrqKCO59T",
        "outputId": "f62cf22c-2820-4509-be2f-6d26bddcfce9"
      },
      "execution_count": null,
      "outputs": [
        {
          "output_type": "execute_result",
          "data": {
            "text/plain": [
              "<function matplotlib.pyplot.show(close=None, block=None)>"
            ],
            "text/html": [
              "<div style=\"max-width:800px; border: 1px solid var(--colab-border-color);\"><style>\n",
              "      pre.function-repr-contents {\n",
              "        overflow-x: auto;\n",
              "        padding: 8px 12px;\n",
              "        max-height: 500px;\n",
              "      }\n",
              "\n",
              "      pre.function-repr-contents.function-repr-contents-collapsed {\n",
              "        cursor: pointer;\n",
              "        max-height: 100px;\n",
              "      }\n",
              "    </style>\n",
              "    <pre style=\"white-space: initial; background:\n",
              "         var(--colab-secondary-surface-color); padding: 8px 12px;\n",
              "         border-bottom: 1px solid var(--colab-border-color);\"><b>matplotlib.pyplot.show</b><br/>def show(*args, **kwargs)</pre><pre class=\"function-repr-contents function-repr-contents-collapsed\" style=\"\"><a class=\"filepath\" style=\"display:none\" href=\"#\">/usr/local/lib/python3.10/dist-packages/matplotlib/pyplot.py</a>Display all open figures.\n",
              "\n",
              "Parameters\n",
              "----------\n",
              "block : bool, optional\n",
              "    Whether to wait for all figures to be closed before returning.\n",
              "\n",
              "    If `True` block and run the GUI main loop until all figure windows\n",
              "    are closed.\n",
              "\n",
              "    If `False` ensure that all figure windows are displayed and return\n",
              "    immediately.  In this case, you are responsible for ensuring\n",
              "    that the event loop is running to have responsive figures.\n",
              "\n",
              "    Defaults to True in non-interactive mode and to False in interactive\n",
              "    mode (see `.pyplot.isinteractive`).\n",
              "\n",
              "See Also\n",
              "--------\n",
              "ion : Enable interactive mode, which shows / updates the figure after\n",
              "      every plotting command, so that calling ``show()`` is not necessary.\n",
              "ioff : Disable interactive mode.\n",
              "savefig : Save the figure to an image file instead of showing it on screen.\n",
              "\n",
              "Notes\n",
              "-----\n",
              "**Saving figures to file and showing a window at the same time**\n",
              "\n",
              "If you want an image file as well as a user interface window, use\n",
              "`.pyplot.savefig` before `.pyplot.show`. At the end of (a blocking)\n",
              "``show()`` the figure is closed and thus unregistered from pyplot. Calling\n",
              "`.pyplot.savefig` afterwards would save a new and thus empty figure. This\n",
              "limitation of command order does not apply if the show is non-blocking or\n",
              "if you keep a reference to the figure and use `.Figure.savefig`.\n",
              "\n",
              "**Auto-show in jupyter notebooks**\n",
              "\n",
              "The jupyter backends (activated via ``%matplotlib inline``,\n",
              "``%matplotlib notebook``, or ``%matplotlib widget``), call ``show()`` at\n",
              "the end of every cell by default. Thus, you usually don&#x27;t have to call it\n",
              "explicitly there.</pre>\n",
              "      <script>\n",
              "      if (google.colab.kernel.accessAllowed && google.colab.files && google.colab.files.view) {\n",
              "        for (const element of document.querySelectorAll('.filepath')) {\n",
              "          element.style.display = 'block'\n",
              "          element.onclick = (event) => {\n",
              "            event.preventDefault();\n",
              "            event.stopPropagation();\n",
              "            google.colab.files.view(element.textContent, 401);\n",
              "          };\n",
              "        }\n",
              "      }\n",
              "      for (const element of document.querySelectorAll('.function-repr-contents')) {\n",
              "        element.onclick = (event) => {\n",
              "          event.preventDefault();\n",
              "          event.stopPropagation();\n",
              "          element.classList.toggle('function-repr-contents-collapsed');\n",
              "        };\n",
              "      }\n",
              "      </script>\n",
              "      </div>"
            ]
          },
          "metadata": {},
          "execution_count": 36
        },
        {
          "output_type": "display_data",
          "data": {
            "text/plain": [
              "<Figure size 640x480 with 1 Axes>"
            ],
            "image/png": "[encoded data removed]"
          },
          "metadata": {}
        }
      ]
    },
    {
      "cell_type": "code",
      "source": [
        "#Get trainning Accuracy histories\n",
        "training_accuracy = history.history['accuracy']\n",
        "\n",
        "# Create count of the number of epochs\n",
        "epoch_count = range(1, len(training_accuracy)+1)\n",
        "\n",
        "#Visualize loss history\n",
        "plt.plot(epoch_count,training_accuracy, 'b--')\n",
        "plt.legend(['Training accuracy'])\n",
        "plt.xlabel('Epoch')\n",
        "plt.ylabel('accuracy')\n",
        "plt.show"
      ],
      "metadata": {
        "colab": {
          "base_uri": "https://localhost:8080/",
          "height": 619
        },
        "id": "kHi19FMUPwC9",
        "outputId": "732b0aa3-af21-47f5-a5a5-5454f6acfbf0"
      },
      "execution_count": null,
      "outputs": [
        {
          "output_type": "execute_result",
          "data": {
            "text/plain": [
              "<function matplotlib.pyplot.show(close=None, block=None)>"
            ],
            "text/html": [
              "<div style=\"max-width:800px; border: 1px solid var(--colab-border-color);\"><style>\n",
              "      pre.function-repr-contents {\n",
              "        overflow-x: auto;\n",
              "        padding: 8px 12px;\n",
              "        max-height: 500px;\n",
              "      }\n",
              "\n",
              "      pre.function-repr-contents.function-repr-contents-collapsed {\n",
              "        cursor: pointer;\n",
              "        max-height: 100px;\n",
              "      }\n",
              "    </style>\n",
              "    <pre style=\"white-space: initial; background:\n",
              "         var(--colab-secondary-surface-color); padding: 8px 12px;\n",
              "         border-bottom: 1px solid var(--colab-border-color);\"><b>matplotlib.pyplot.show</b><br/>def show(*args, **kwargs)</pre><pre class=\"function-repr-contents function-repr-contents-collapsed\" style=\"\"><a class=\"filepath\" style=\"display:none\" href=\"#\">/usr/local/lib/python3.10/dist-packages/matplotlib/pyplot.py</a>Display all open figures.\n",
              "\n",
              "Parameters\n",
              "----------\n",
              "block : bool, optional\n",
              "    Whether to wait for all figures to be closed before returning.\n",
              "\n",
              "    If `True` block and run the GUI main loop until all figure windows\n",
              "    are closed.\n",
              "\n",
              "    If `False` ensure that all figure windows are displayed and return\n",
              "    immediately.  In this case, you are responsible for ensuring\n",
              "    that the event loop is running to have responsive figures.\n",
              "\n",
              "    Defaults to True in non-interactive mode and to False in interactive\n",
              "    mode (see `.pyplot.isinteractive`).\n",
              "\n",
              "See Also\n",
              "--------\n",
              "ion : Enable interactive mode, which shows / updates the figure after\n",
              "      every plotting command, so that calling ``show()`` is not necessary.\n",
              "ioff : Disable interactive mode.\n",
              "savefig : Save the figure to an image file instead of showing it on screen.\n",
              "\n",
              "Notes\n",
              "-----\n",
              "**Saving figures to file and showing a window at the same time**\n",
              "\n",
              "If you want an image file as well as a user interface window, use\n",
              "`.pyplot.savefig` before `.pyplot.show`. At the end of (a blocking)\n",
              "``show()`` the figure is closed and thus unregistered from pyplot. Calling\n",
              "`.pyplot.savefig` afterwards would save a new and thus empty figure. This\n",
              "limitation of command order does not apply if the show is non-blocking or\n",
              "if you keep a reference to the figure and use `.Figure.savefig`.\n",
              "\n",
              "**Auto-show in jupyter notebooks**\n",
              "\n",
              "The jupyter backends (activated via ``%matplotlib inline``,\n",
              "``%matplotlib notebook``, or ``%matplotlib widget``), call ``show()`` at\n",
              "the end of every cell by default. Thus, you usually don&#x27;t have to call it\n",
              "explicitly there.</pre>\n",
              "      <script>\n",
              "      if (google.colab.kernel.accessAllowed && google.colab.files && google.colab.files.view) {\n",
              "        for (const element of document.querySelectorAll('.filepath')) {\n",
              "          element.style.display = 'block'\n",
              "          element.onclick = (event) => {\n",
              "            event.preventDefault();\n",
              "            event.stopPropagation();\n",
              "            google.colab.files.view(element.textContent, 401);\n",
              "          };\n",
              "        }\n",
              "      }\n",
              "      for (const element of document.querySelectorAll('.function-repr-contents')) {\n",
              "        element.onclick = (event) => {\n",
              "          event.preventDefault();\n",
              "          event.stopPropagation();\n",
              "          element.classList.toggle('function-repr-contents-collapsed');\n",
              "        };\n",
              "      }\n",
              "      </script>\n",
              "      </div>"
            ]
          },
          "metadata": {},
          "execution_count": 39
        },
        {
          "output_type": "display_data",
          "data": {
            "text/plain": [
              "<Figure size 640x480 with 1 Axes>"
            ],
            "image/png": "[encoded data removed]"
          },
          "metadata": {}
        }
      ]
    },
    {
      "cell_type": "code",
      "source": [],
      "metadata": {
        "id": "ZOzkIxdgQOtY"
      },
      "execution_count": null,
      "outputs": []
    }
  ]
}