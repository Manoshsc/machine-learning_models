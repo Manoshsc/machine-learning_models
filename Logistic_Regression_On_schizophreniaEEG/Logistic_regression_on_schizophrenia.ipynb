{
  "nbformat": 4,
  "nbformat_minor": 0,
  "metadata": {
    "colab": {
      "provenance": [],
      "gpuType": "T4"
    },
    "kernelspec": {
      "name": "python3",
      "display_name": "Python 3"
    },
    "language_info": {
      "name": "python"
    },
    "accelerator": "GPU"
  },
  "cells": [
    {
      "cell_type": "code",
      "execution_count": 44,
      "metadata": {
        "colab": {
          "base_uri": "https://localhost:8080/"
        },
        "id": "Nqe_7V5RyNQJ",
        "outputId": "3e38e857-0a73-4b51-d1dd-d8b286eef4d5"
      },
      "outputs": [
        {
          "output_type": "stream",
          "name": "stdout",
          "text": [
            "Mounted at /gdrive\n"
          ]
        }
      ],
      "source": [
        "from google.colab import drive\n",
        "drive.mount('/gdrive')"
      ]
    },
    {
      "cell_type": "code",
      "source": [],
      "metadata": {
        "id": "KOSF0XViyO7-"
      },
      "execution_count": 44,
      "outputs": []
    },
    {
      "cell_type": "markdown",
      "source": [
        "<h1><b><FONT COLOR=\"0DA2EC\">Preparing raw schizophrenia EEG dataset </h1><br>\n",
        "<h3><b> Reference Paper : <a href=https://doi.org/10.1371/journal.pone.0188629>Graph-based analysis of brain connectivity in\n",
        "schizophrenia</a>  </b>"
      ],
      "metadata": {
        "id": "MyBXJfu1FvTs"
      }
    },
    {
      "cell_type": "code",
      "source": [
        "fname='/content/drive/MyDrive/dataset_EEG/*.edf'"
      ],
      "metadata": {
        "id": "_F5r839ByaSe"
      },
      "execution_count": 45,
      "outputs": []
    },
    {
      "cell_type": "code",
      "source": [
        "!pip install mne"
      ],
      "metadata": {
        "colab": {
          "base_uri": "https://localhost:8080/"
        },
        "id": "8SzBMH1z1_3r",
        "outputId": "d705c13a-245b-4462-9913-d3def4b0fb66"
      },
      "execution_count": 46,
      "outputs": [
        {
          "output_type": "stream",
          "name": "stdout",
          "text": [
            "Requirement already satisfied: mne in /usr/local/lib/python3.10/dist-packages (1.6.1)\n",
            "Requirement already satisfied: numpy>=1.21.2 in /usr/local/lib/python3.10/dist-packages (from mne) (1.25.2)\n",
            "Requirement already satisfied: scipy>=1.7.1 in /usr/local/lib/python3.10/dist-packages (from mne) (1.11.4)\n",
            "Requirement already satisfied: matplotlib>=3.5.0 in /usr/local/lib/python3.10/dist-packages (from mne) (3.7.1)\n",
            "Requirement already satisfied: tqdm in /usr/local/lib/python3.10/dist-packages (from mne) (4.66.2)\n",
            "Requirement already satisfied: pooch>=1.5 in /usr/local/lib/python3.10/dist-packages (from mne) (1.8.0)\n",
            "Requirement already satisfied: decorator in /usr/local/lib/python3.10/dist-packages (from mne) (4.4.2)\n",
            "Requirement already satisfied: packaging in /usr/local/lib/python3.10/dist-packages (from mne) (23.2)\n",
            "Requirement already satisfied: jinja2 in /usr/local/lib/python3.10/dist-packages (from mne) (3.1.3)\n",
            "Requirement already satisfied: lazy-loader>=0.3 in /usr/local/lib/python3.10/dist-packages (from mne) (0.3)\n",
            "Requirement already satisfied: contourpy>=1.0.1 in /usr/local/lib/python3.10/dist-packages (from matplotlib>=3.5.0->mne) (1.2.0)\n",
            "Requirement already satisfied: cycler>=0.10 in /usr/local/lib/python3.10/dist-packages (from matplotlib>=3.5.0->mne) (0.12.1)\n",
            "Requirement already satisfied: fonttools>=4.22.0 in /usr/local/lib/python3.10/dist-packages (from matplotlib>=3.5.0->mne) (4.49.0)\n",
            "Requirement already satisfied: kiwisolver>=1.0.1 in /usr/local/lib/python3.10/dist-packages (from matplotlib>=3.5.0->mne) (1.4.5)\n",
            "Requirement already satisfied: pillow>=6.2.0 in /usr/local/lib/python3.10/dist-packages (from matplotlib>=3.5.0->mne) (9.4.0)\n",
            "Requirement already satisfied: pyparsing>=2.3.1 in /usr/local/lib/python3.10/dist-packages (from matplotlib>=3.5.0->mne) (3.1.1)\n",
            "Requirement already satisfied: python-dateutil>=2.7 in /usr/local/lib/python3.10/dist-packages (from matplotlib>=3.5.0->mne) (2.8.2)\n",
            "Requirement already satisfied: platformdirs>=2.5.0 in /usr/local/lib/python3.10/dist-packages (from pooch>=1.5->mne) (4.2.0)\n",
            "Requirement already satisfied: requests>=2.19.0 in /usr/local/lib/python3.10/dist-packages (from pooch>=1.5->mne) (2.31.0)\n",
            "Requirement already satisfied: MarkupSafe>=2.0 in /usr/local/lib/python3.10/dist-packages (from jinja2->mne) (2.1.5)\n",
            "Requirement already satisfied: six>=1.5 in /usr/local/lib/python3.10/dist-packages (from python-dateutil>=2.7->matplotlib>=3.5.0->mne) (1.16.0)\n",
            "Requirement already satisfied: charset-normalizer<4,>=2 in /usr/local/lib/python3.10/dist-packages (from requests>=2.19.0->pooch>=1.5->mne) (3.3.2)\n",
            "Requirement already satisfied: idna<4,>=2.5 in /usr/local/lib/python3.10/dist-packages (from requests>=2.19.0->pooch>=1.5->mne) (3.6)\n",
            "Requirement already satisfied: urllib3<3,>=1.21.1 in /usr/local/lib/python3.10/dist-packages (from requests>=2.19.0->pooch>=1.5->mne) (2.0.7)\n",
            "Requirement already satisfied: certifi>=2017.4.17 in /usr/local/lib/python3.10/dist-packages (from requests>=2.19.0->pooch>=1.5->mne) (2024.2.2)\n"
          ]
        }
      ]
    },
    {
      "cell_type": "code",
      "source": [
        "from glob import glob\n",
        "import os\n",
        "import mne\n",
        "import numpy as np\n",
        "import pandas\n",
        "import matplotlib.pyplot as plt"
      ],
      "metadata": {
        "id": "sGEM4jTZz3Fk"
      },
      "execution_count": 47,
      "outputs": []
    },
    {
      "cell_type": "code",
      "source": [
        "glob('/gdrive/MyDrive/dataset_EEG/*.edf')"
      ],
      "metadata": {
        "colab": {
          "base_uri": "https://localhost:8080/"
        },
        "id": "MRgVe97t3jHc",
        "outputId": "39c37fd0-5332-47b5-a1d7-f050e9d75a59"
      },
      "execution_count": 48,
      "outputs": [
        {
          "output_type": "execute_result",
          "data": {
            "text/plain": [
              "['/gdrive/MyDrive/dataset_EEG/h01.edf',\n",
              " '/gdrive/MyDrive/dataset_EEG/h02.edf',\n",
              " '/gdrive/MyDrive/dataset_EEG/h03.edf',\n",
              " '/gdrive/MyDrive/dataset_EEG/h04.edf',\n",
              " '/gdrive/MyDrive/dataset_EEG/h06.edf',\n",
              " '/gdrive/MyDrive/dataset_EEG/h07.edf',\n",
              " '/gdrive/MyDrive/dataset_EEG/h05.edf',\n",
              " '/gdrive/MyDrive/dataset_EEG/h08.edf',\n",
              " '/gdrive/MyDrive/dataset_EEG/h09.edf',\n",
              " '/gdrive/MyDrive/dataset_EEG/h10.edf',\n",
              " '/gdrive/MyDrive/dataset_EEG/h11.edf',\n",
              " '/gdrive/MyDrive/dataset_EEG/h12.edf',\n",
              " '/gdrive/MyDrive/dataset_EEG/h13.edf',\n",
              " '/gdrive/MyDrive/dataset_EEG/h14.edf',\n",
              " '/gdrive/MyDrive/dataset_EEG/s01.edf',\n",
              " '/gdrive/MyDrive/dataset_EEG/s08.edf',\n",
              " '/gdrive/MyDrive/dataset_EEG/s05.edf',\n",
              " '/gdrive/MyDrive/dataset_EEG/s03.edf',\n",
              " '/gdrive/MyDrive/dataset_EEG/s02.edf',\n",
              " '/gdrive/MyDrive/dataset_EEG/s04.edf',\n",
              " '/gdrive/MyDrive/dataset_EEG/s06.edf',\n",
              " '/gdrive/MyDrive/dataset_EEG/s10.edf',\n",
              " '/gdrive/MyDrive/dataset_EEG/s09.edf',\n",
              " '/gdrive/MyDrive/dataset_EEG/s07.edf',\n",
              " '/gdrive/MyDrive/dataset_EEG/s12.edf',\n",
              " '/gdrive/MyDrive/dataset_EEG/s13.edf',\n",
              " '/gdrive/MyDrive/dataset_EEG/s11.edf',\n",
              " '/gdrive/MyDrive/dataset_EEG/s14.edf']"
            ]
          },
          "metadata": {},
          "execution_count": 48
        }
      ]
    },
    {
      "cell_type": "code",
      "source": [
        "all_file_path=glob('/gdrive/MyDrive/dataset_EEG/*.edf')\n",
        "print(len(all_file_path))"
      ],
      "metadata": {
        "colab": {
          "base_uri": "https://localhost:8080/"
        },
        "id": "OcVAvctM16xJ",
        "outputId": "5f1ef76c-de4c-4947-93cc-95054868c408"
      },
      "execution_count": 49,
      "outputs": [
        {
          "output_type": "stream",
          "name": "stdout",
          "text": [
            "28\n"
          ]
        }
      ]
    },
    {
      "cell_type": "code",
      "source": [
        "all_file_path[0:10]"
      ],
      "metadata": {
        "colab": {
          "base_uri": "https://localhost:8080/"
        },
        "id": "d_U1nOB22cpV",
        "outputId": "e8a4197e-1e07-44de-c2de-bdefc925391a"
      },
      "execution_count": 50,
      "outputs": [
        {
          "output_type": "execute_result",
          "data": {
            "text/plain": [
              "['/gdrive/MyDrive/dataset_EEG/h01.edf',\n",
              " '/gdrive/MyDrive/dataset_EEG/h02.edf',\n",
              " '/gdrive/MyDrive/dataset_EEG/h03.edf',\n",
              " '/gdrive/MyDrive/dataset_EEG/h04.edf',\n",
              " '/gdrive/MyDrive/dataset_EEG/h06.edf',\n",
              " '/gdrive/MyDrive/dataset_EEG/h07.edf',\n",
              " '/gdrive/MyDrive/dataset_EEG/h05.edf',\n",
              " '/gdrive/MyDrive/dataset_EEG/h08.edf',\n",
              " '/gdrive/MyDrive/dataset_EEG/h09.edf',\n",
              " '/gdrive/MyDrive/dataset_EEG/h10.edf']"
            ]
          },
          "metadata": {},
          "execution_count": 50
        }
      ]
    },
    {
      "cell_type": "code",
      "source": [
        "all_file_path[0].split('/')[4]"
      ],
      "metadata": {
        "colab": {
          "base_uri": "https://localhost:8080/",
          "height": 35
        },
        "id": "7xkdd-yI31RA",
        "outputId": "5556294d-c884-46dd-c56d-429833f49a89"
      },
      "execution_count": 51,
      "outputs": [
        {
          "output_type": "execute_result",
          "data": {
            "text/plain": [
              "'h01.edf'"
            ],
            "application/vnd.google.colaboratory.intrinsic+json": {
              "type": "string"
            }
          },
          "metadata": {},
          "execution_count": 51
        }
      ]
    },
    {
      "cell_type": "code",
      "source": [
        "healthy_file_path=[i for i in all_file_path if 'h' in i.split('/')[4]]\n",
        "patient_file_path=[i for i in all_file_path if 's' in i.split('/')[4]]"
      ],
      "metadata": {
        "id": "_inB5vh-4W-2"
      },
      "execution_count": 52,
      "outputs": []
    },
    {
      "cell_type": "code",
      "source": [
        "healthy_file_path"
      ],
      "metadata": {
        "colab": {
          "base_uri": "https://localhost:8080/"
        },
        "id": "y7ljmhf05cBX",
        "outputId": "db1b111a-75d4-4774-ab02-47d9e230d176"
      },
      "execution_count": 53,
      "outputs": [
        {
          "output_type": "execute_result",
          "data": {
            "text/plain": [
              "['/gdrive/MyDrive/dataset_EEG/h01.edf',\n",
              " '/gdrive/MyDrive/dataset_EEG/h02.edf',\n",
              " '/gdrive/MyDrive/dataset_EEG/h03.edf',\n",
              " '/gdrive/MyDrive/dataset_EEG/h04.edf',\n",
              " '/gdrive/MyDrive/dataset_EEG/h06.edf',\n",
              " '/gdrive/MyDrive/dataset_EEG/h07.edf',\n",
              " '/gdrive/MyDrive/dataset_EEG/h05.edf',\n",
              " '/gdrive/MyDrive/dataset_EEG/h08.edf',\n",
              " '/gdrive/MyDrive/dataset_EEG/h09.edf',\n",
              " '/gdrive/MyDrive/dataset_EEG/h10.edf',\n",
              " '/gdrive/MyDrive/dataset_EEG/h11.edf',\n",
              " '/gdrive/MyDrive/dataset_EEG/h12.edf',\n",
              " '/gdrive/MyDrive/dataset_EEG/h13.edf',\n",
              " '/gdrive/MyDrive/dataset_EEG/h14.edf']"
            ]
          },
          "metadata": {},
          "execution_count": 53
        }
      ]
    },
    {
      "cell_type": "code",
      "source": [
        "patient_file_path"
      ],
      "metadata": {
        "colab": {
          "base_uri": "https://localhost:8080/"
        },
        "id": "K4jcjGpQ5gkd",
        "outputId": "8dd2b00b-3bb8-4ce4-91dc-f211012266d6"
      },
      "execution_count": 54,
      "outputs": [
        {
          "output_type": "execute_result",
          "data": {
            "text/plain": [
              "['/gdrive/MyDrive/dataset_EEG/s01.edf',\n",
              " '/gdrive/MyDrive/dataset_EEG/s08.edf',\n",
              " '/gdrive/MyDrive/dataset_EEG/s05.edf',\n",
              " '/gdrive/MyDrive/dataset_EEG/s03.edf',\n",
              " '/gdrive/MyDrive/dataset_EEG/s02.edf',\n",
              " '/gdrive/MyDrive/dataset_EEG/s04.edf',\n",
              " '/gdrive/MyDrive/dataset_EEG/s06.edf',\n",
              " '/gdrive/MyDrive/dataset_EEG/s10.edf',\n",
              " '/gdrive/MyDrive/dataset_EEG/s09.edf',\n",
              " '/gdrive/MyDrive/dataset_EEG/s07.edf',\n",
              " '/gdrive/MyDrive/dataset_EEG/s12.edf',\n",
              " '/gdrive/MyDrive/dataset_EEG/s13.edf',\n",
              " '/gdrive/MyDrive/dataset_EEG/s11.edf',\n",
              " '/gdrive/MyDrive/dataset_EEG/s14.edf']"
            ]
          },
          "metadata": {},
          "execution_count": 54
        }
      ]
    },
    {
      "cell_type": "code",
      "source": [
        "def read_data(file_path):\n",
        "  data=mne.io.read_raw_edf(file_path,preload=True)\n",
        "  data.set_eeg_reference() #auto referencing with one electrode\n",
        "  data.filter(l_freq=0.5,h_freq=45) # bandpass filter of 0.5Hz to 45Hz\n",
        "  epochs=mne.make_fixed_length_epochs(data,duration=5,overlap=1)\n",
        "  array=epochs.get_data()\n",
        "  return array"
      ],
      "metadata": {
        "id": "QecY7K7-5ser"
      },
      "execution_count": 55,
      "outputs": []
    },
    {
      "cell_type": "code",
      "source": [
        "sample_data = read_data(healthy_file_path[0])"
      ],
      "metadata": {
        "colab": {
          "base_uri": "https://localhost:8080/"
        },
        "id": "vJVmmIWt7ZTQ",
        "outputId": "ef87cda1-d6cf-4b1b-e521-16bf33cbcff5"
      },
      "execution_count": 56,
      "outputs": [
        {
          "output_type": "stream",
          "name": "stdout",
          "text": [
            "Extracting EDF parameters from /gdrive/MyDrive/dataset_EEG/h01.edf...\n",
            "EDF file detected\n",
            "Setting channel info structure...\n",
            "Creating raw.info structure...\n",
            "Reading 0 ... 231249  =      0.000 ...   924.996 secs...\n",
            "EEG channel type selected for re-referencing\n",
            "Applying average reference.\n",
            "Applying a custom ('EEG',) reference.\n",
            "Filtering raw data in 1 contiguous segment\n",
            "Setting up band-pass filter from 0.5 - 45 Hz\n",
            "\n",
            "FIR filter parameters\n",
            "---------------------\n",
            "Designing a one-pass, zero-phase, non-causal bandpass filter:\n",
            "- Windowed time-domain design (firwin) method\n",
            "- Hamming window with 0.0194 passband ripple and 53 dB stopband attenuation\n",
            "- Lower passband edge: 0.50\n",
            "- Lower transition bandwidth: 0.50 Hz (-6 dB cutoff frequency: 0.25 Hz)\n",
            "- Upper passband edge: 45.00 Hz\n",
            "- Upper transition bandwidth: 11.25 Hz (-6 dB cutoff frequency: 50.62 Hz)\n",
            "- Filter length: 1651 samples (6.604 s)\n",
            "\n",
            "Not setting metadata\n",
            "231 matching events found\n",
            "No baseline correction applied\n",
            "0 projection items activated\n",
            "Using data from preloaded Raw for 231 events and 1250 original time points ...\n",
            "0 bad epochs dropped\n"
          ]
        },
        {
          "output_type": "stream",
          "name": "stderr",
          "text": [
            "[Parallel(n_jobs=1)]: Done  17 tasks      | elapsed:    0.3s\n"
          ]
        }
      ]
    },
    {
      "cell_type": "code",
      "source": [
        "sample_data.shape #no of epochs, channels, length signal"
      ],
      "metadata": {
        "colab": {
          "base_uri": "https://localhost:8080/"
        },
        "id": "9oRM_kho7g4L",
        "outputId": "860d66fb-c812-45bc-843d-9452735ac4f7"
      },
      "execution_count": 57,
      "outputs": [
        {
          "output_type": "execute_result",
          "data": {
            "text/plain": [
              "(231, 19, 1250)"
            ]
          },
          "metadata": {},
          "execution_count": 57
        }
      ]
    },
    {
      "cell_type": "code",
      "source": [
        "%%capture\n",
        "control_epochs_array=[read_data(i) for i in healthy_file_path]\n",
        "patient_epochs_array=[read_data(i) for i in patient_file_path]"
      ],
      "metadata": {
        "id": "XV06kNu98KNG"
      },
      "execution_count": 58,
      "outputs": []
    },
    {
      "cell_type": "code",
      "source": [
        "#control_epochs_array is the 14 arrays of 231 epoch with 19 channel and 1250 ms length signal\n",
        "#patients_epochs_array is the 14 arrays of 231 epoch with 19 channel and 1250 ms length signal\n",
        "\n",
        "control_epochs_array[0].shape,patient_epochs_array[0].shape"
      ],
      "metadata": {
        "colab": {
          "base_uri": "https://localhost:8080/"
        },
        "id": "nnIEJCKA86wU",
        "outputId": "959f784d-8419-4ccd-848b-526f6593226d"
      },
      "execution_count": 59,
      "outputs": [
        {
          "output_type": "execute_result",
          "data": {
            "text/plain": [
              "((231, 19, 1250), (211, 19, 1250))"
            ]
          },
          "metadata": {},
          "execution_count": 59
        }
      ]
    },
    {
      "cell_type": "code",
      "source": [
        "# lebel the signals\n",
        "# for control epochs label will be 0\n",
        "# for patient epochs label with be 1\n",
        "\n",
        "control_epochs_label = [len(i)*[0] for i in control_epochs_array]\n",
        "patient_epochs_label = [len(i)*[1] for i in patient_epochs_array]\n",
        "\n",
        "#create 14 list of 231 0s list for healthy signal\n",
        "#create 14 list of 231 1s list for patient signal\n",
        "\n",
        "len(control_epochs_label),len(patient_epochs_label)"
      ],
      "metadata": {
        "colab": {
          "base_uri": "https://localhost:8080/"
        },
        "id": "F7uCixtI-ME5",
        "outputId": "094a8731-c655-4a9c-9cdd-4566725351b6"
      },
      "execution_count": 60,
      "outputs": [
        {
          "output_type": "execute_result",
          "data": {
            "text/plain": [
              "(14, 14)"
            ]
          },
          "metadata": {},
          "execution_count": 60
        }
      ]
    },
    {
      "cell_type": "code",
      "source": [
        "len(control_epochs_label[0])"
      ],
      "metadata": {
        "colab": {
          "base_uri": "https://localhost:8080/"
        },
        "id": "ScNsPXV7Bjl7",
        "outputId": "9cf42a34-32e2-4d98-a9eb-e5e8afe7e4d8"
      },
      "execution_count": 61,
      "outputs": [
        {
          "output_type": "execute_result",
          "data": {
            "text/plain": [
              "231"
            ]
          },
          "metadata": {},
          "execution_count": 61
        }
      ]
    },
    {
      "cell_type": "code",
      "source": [
        "data_list = control_epochs_array + patient_epochs_array\n",
        "label_list = control_epochs_label + patient_epochs_label"
      ],
      "metadata": {
        "id": "Z4kIjQpOBmLk"
      },
      "execution_count": 62,
      "outputs": []
    },
    {
      "cell_type": "code",
      "source": [
        "enumerate(data_list)"
      ],
      "metadata": {
        "colab": {
          "base_uri": "https://localhost:8080/"
        },
        "id": "9gOiV4K6C8hy",
        "outputId": "12b83b02-8540-40c2-9682-37ab6ef0e01e"
      },
      "execution_count": 63,
      "outputs": [
        {
          "output_type": "execute_result",
          "data": {
            "text/plain": [
              "<enumerate at 0x7894c3711940>"
            ]
          },
          "metadata": {},
          "execution_count": 63
        }
      ]
    },
    {
      "cell_type": "code",
      "source": [
        "#example of enumerate\n",
        "l1 = [\"eat\", \"sleep\", \"repeat\"]\n",
        "s1 = \"geek\"\n",
        "\n",
        "# creating enumerate objects\n",
        "obj1 = enumerate(l1)\n",
        "obj2 = enumerate(s1)\n",
        "\n",
        "print (\"Return type:\", type(obj1))\n",
        "print (list(enumerate(l1)))\n",
        "\n",
        "# changing start index to 2 from 0\n",
        "print (list(enumerate(s1, 2)))"
      ],
      "metadata": {
        "colab": {
          "base_uri": "https://localhost:8080/"
        },
        "id": "fFAMUDCKDgLS",
        "outputId": "d420d2ec-a358-475c-8bb7-70d2bbd0280d"
      },
      "execution_count": 64,
      "outputs": [
        {
          "output_type": "stream",
          "name": "stdout",
          "text": [
            "Return type: <class 'enumerate'>\n",
            "[(0, 'eat'), (1, 'sleep'), (2, 'repeat')]\n",
            "[(2, 'g'), (3, 'e'), (4, 'e'), (5, 'k')]\n"
          ]
        }
      ]
    },
    {
      "cell_type": "code",
      "source": [
        "group_list = [ [i]*len(j) for i,j in enumerate(data_list)]\n",
        "len(group_list)"
      ],
      "metadata": {
        "colab": {
          "base_uri": "https://localhost:8080/"
        },
        "id": "LEN78HFRD7eq",
        "outputId": "fcc3dfa0-5a26-443c-9c8d-3800a5cb437d"
      },
      "execution_count": 65,
      "outputs": [
        {
          "output_type": "execute_result",
          "data": {
            "text/plain": [
              "28"
            ]
          },
          "metadata": {},
          "execution_count": 65
        }
      ]
    },
    {
      "cell_type": "code",
      "source": [
        "#converting list to array\n",
        "data_array = np.vstack(data_list)\n",
        "label_array= np.hstack(label_list)\n",
        "group_array=np.hstack(group_list)\n",
        "\n",
        "print(data_array.shape,label_array.shape,group_array.shape)"
      ],
      "metadata": {
        "colab": {
          "base_uri": "https://localhost:8080/"
        },
        "id": "bYXbp8XGE-ix",
        "outputId": "a0031b30-9730-49bb-9f7c-3df9971219be"
      },
      "execution_count": 66,
      "outputs": [
        {
          "output_type": "stream",
          "name": "stdout",
          "text": [
            "(7201, 19, 1250) (7201,) (7201,)\n"
          ]
        }
      ]
    },
    {
      "cell_type": "code",
      "source": [],
      "metadata": {
        "id": "3i4QsTeCFedr"
      },
      "execution_count": 66,
      "outputs": []
    },
    {
      "cell_type": "markdown",
      "source": [
        "<h2> <FONT COLOR=\"FF0000\">Feature Extraction from data_array (raw EEG)\n"
      ],
      "metadata": {
        "id": "SarXd48YIKfp"
      }
    },
    {
      "cell_type": "code",
      "source": [
        "#shape of the 1 feature should be 7201,19\n",
        "#shape of the 10 feature should be 7201,19*10\n",
        "\n",
        "from scipy import stats\n",
        "def mean(x):\n",
        "  return np.mean(x,axis=-1)\n",
        "def std(x):\n",
        "  return np.std(x,axis=-1)\n",
        "def ptp(x):\n",
        "  return np.ptp(x,axis=-1)\n",
        "def var(x):\n",
        "  return np.var(x,axis=-1)\n",
        "def minim(x):\n",
        "  return np.min(x,axis=-1)\n",
        "def maxim(x):\n",
        "  return np.max(x,axis=-1)\n",
        "\n",
        "def argminim(x):\n",
        "  return np.argmin(x,axis=-1)\n",
        "def argmaxim(x):\n",
        "  return np.argmax(x,axis=-1)\n",
        "\n",
        "def rms(x):\n",
        "  return np.sqrt(np.mean(x**2,axis=-1))\n",
        "\n",
        "def abs_diff_signal(x):\n",
        "  return np.sum(np.abs(np.diff(x,axis=-1)),axis=-1)\n",
        "def skewness(x):\n",
        "  return stats.skew(x,axis=-1)\n",
        "def kurtosis(x):\n",
        "  return stats.kurtosis(x,axis=-1)\n",
        "\n",
        "def concatenate_features(x):\n",
        "  return np.concatenate((mean(x),std(x),ptp(x),var(x),minim(x),maxim(x),argminim(x),argmaxim(x),rms(x),abs_diff_signal(x),skewness(x),kurtosis(x)),axis=-1)\n",
        "\n"
      ],
      "metadata": {
        "id": "L5al1otLIpq5"
      },
      "execution_count": 68,
      "outputs": []
    },
    {
      "cell_type": "code",
      "source": [
        "features=[]\n",
        "for d in data_array:\n",
        "  features.append(concatenate_features(d))"
      ],
      "metadata": {
        "id": "fxBnv_ouTo_F"
      },
      "execution_count": 70,
      "outputs": []
    },
    {
      "cell_type": "code",
      "source": [
        "features_array = np.array(features)\n",
        "features_array.shape"
      ],
      "metadata": {
        "colab": {
          "base_uri": "https://localhost:8080/"
        },
        "id": "pUsuo9mKT1Bb",
        "outputId": "f320e97e-adde-4126-896c-59d389fdccf7"
      },
      "execution_count": 71,
      "outputs": [
        {
          "output_type": "execute_result",
          "data": {
            "text/plain": [
              "(7201, 228)"
            ]
          },
          "metadata": {},
          "execution_count": 71
        }
      ]
    },
    {
      "cell_type": "code",
      "source": [
        "#total 228/19==12 features"
      ],
      "metadata": {
        "id": "yonZeiv7UR6_"
      },
      "execution_count": 72,
      "outputs": []
    },
    {
      "cell_type": "code",
      "source": [
        "from sklearn.linear_model import LogisticRegression\n",
        "from sklearn.pipeline import Pipeline\n",
        "from sklearn.preprocessing import StandardScaler\n",
        "from sklearn.model_selection import GroupKFold,GridSearchCV"
      ],
      "metadata": {
        "id": "eEaJo0OCUeOu"
      },
      "execution_count": 73,
      "outputs": []
    },
    {
      "cell_type": "code",
      "source": [
        "clf= LogisticRegression()\n",
        "gkf= GroupKFold(10)\n",
        "pipe=Pipeline([('scaler',StandardScaler()),('clf',clf)])\n",
        "param_grid={'clf__C':[0.1,0.5,0.7,1,3,5,7,9]}\n",
        "gscv=GridSearchCV(pipe,param_grid,cv=gkf,n_jobs=12)\n",
        "gscv.fit(features_array,label_array,groups=group_array)"
      ],
      "metadata": {
        "colab": {
          "base_uri": "https://localhost:8080/",
          "height": 291
        },
        "id": "F4pDYkeHVGVy",
        "outputId": "1d991dd0-dc0c-4b2e-c62c-22759631ea7d"
      },
      "execution_count": 79,
      "outputs": [
        {
          "output_type": "stream",
          "name": "stderr",
          "text": [
            "/usr/local/lib/python3.10/dist-packages/sklearn/linear_model/_logistic.py:458: ConvergenceWarning: lbfgs failed to converge (status=1):\n",
            "STOP: TOTAL NO. of ITERATIONS REACHED LIMIT.\n",
            "\n",
            "Increase the number of iterations (max_iter) or scale the data as shown in:\n",
            "    https://scikit-learn.org/stable/modules/preprocessing.html\n",
            "Please also refer to the documentation for alternative solver options:\n",
            "    https://scikit-learn.org/stable/modules/linear_model.html#logistic-regression\n",
            "  n_iter_i = _check_optimize_result(\n"
          ]
        },
        {
          "output_type": "execute_result",
          "data": {
            "text/plain": [
              "GridSearchCV(cv=GroupKFold(n_splits=10),\n",
              "             estimator=Pipeline(steps=[('scaler', StandardScaler()),\n",
              "                                       ('clf', LogisticRegression())]),\n",
              "             n_jobs=12, param_grid={'clf__C': [0.1, 0.5, 0.7, 1, 3, 5, 7, 9]})"
            ],
            "text/html": [
              "<style>#sk-container-id-3 {color: black;background-color: white;}#sk-container-id-3 pre{padding: 0;}#sk-container-id-3 div.sk-toggleable {background-color: white;}#sk-container-id-3 label.sk-toggleable__label {cursor: pointer;display: block;width: 100%;margin-bottom: 0;padding: 0.3em;box-sizing: border-box;text-align: center;}#sk-container-id-3 label.sk-toggleable__label-arrow:before {content: \"▸\";float: left;margin-right: 0.25em;color: #696969;}#sk-container-id-3 label.sk-toggleable__label-arrow:hover:before {color: black;}#sk-container-id-3 div.sk-estimator:hover label.sk-toggleable__label-arrow:before {color: black;}#sk-container-id-3 div.sk-toggleable__content {max-height: 0;max-width: 0;overflow: hidden;text-align: left;background-color: #f0f8ff;}#sk-container-id-3 div.sk-toggleable__content pre {margin: 0.2em;color: black;border-radius: 0.25em;background-color: #f0f8ff;}#sk-container-id-3 input.sk-toggleable__control:checked~div.sk-toggleable__content {max-height: 200px;max-width: 100%;overflow: auto;}#sk-container-id-3 input.sk-toggleable__control:checked~label.sk-toggleable__label-arrow:before {content: \"▾\";}#sk-container-id-3 div.sk-estimator input.sk-toggleable__control:checked~label.sk-toggleable__label {background-color: #d4ebff;}#sk-container-id-3 div.sk-label input.sk-toggleable__control:checked~label.sk-toggleable__label {background-color: #d4ebff;}#sk-container-id-3 input.sk-hidden--visually {border: 0;clip: rect(1px 1px 1px 1px);clip: rect(1px, 1px, 1px, 1px);height: 1px;margin: -1px;overflow: hidden;padding: 0;position: absolute;width: 1px;}#sk-container-id-3 div.sk-estimator {font-family: monospace;background-color: #f0f8ff;border: 1px dotted black;border-radius: 0.25em;box-sizing: border-box;margin-bottom: 0.5em;}#sk-container-id-3 div.sk-estimator:hover {background-color: #d4ebff;}#sk-container-id-3 div.sk-parallel-item::after {content: \"\";width: 100%;border-bottom: 1px solid gray;flex-grow: 1;}#sk-container-id-3 div.sk-label:hover label.sk-toggleable__label {background-color: #d4ebff;}#sk-container-id-3 div.sk-serial::before {content: \"\";position: absolute;border-left: 1px solid gray;box-sizing: border-box;top: 0;bottom: 0;left: 50%;z-index: 0;}#sk-container-id-3 div.sk-serial {display: flex;flex-direction: column;align-items: center;background-color: white;padding-right: 0.2em;padding-left: 0.2em;position: relative;}#sk-container-id-3 div.sk-item {position: relative;z-index: 1;}#sk-container-id-3 div.sk-parallel {display: flex;align-items: stretch;justify-content: center;background-color: white;position: relative;}#sk-container-id-3 div.sk-item::before, #sk-container-id-3 div.sk-parallel-item::before {content: \"\";position: absolute;border-left: 1px solid gray;box-sizing: border-box;top: 0;bottom: 0;left: 50%;z-index: -1;}#sk-container-id-3 div.sk-parallel-item {display: flex;flex-direction: column;z-index: 1;position: relative;background-color: white;}#sk-container-id-3 div.sk-parallel-item:first-child::after {align-self: flex-end;width: 50%;}#sk-container-id-3 div.sk-parallel-item:last-child::after {align-self: flex-start;width: 50%;}#sk-container-id-3 div.sk-parallel-item:only-child::after {width: 0;}#sk-container-id-3 div.sk-dashed-wrapped {border: 1px dashed gray;margin: 0 0.4em 0.5em 0.4em;box-sizing: border-box;padding-bottom: 0.4em;background-color: white;}#sk-container-id-3 div.sk-label label {font-family: monospace;font-weight: bold;display: inline-block;line-height: 1.2em;}#sk-container-id-3 div.sk-label-container {text-align: center;}#sk-container-id-3 div.sk-container {/* jupyter's `normalize.less` sets `[hidden] { display: none; }` but bootstrap.min.css set `[hidden] { display: none !important; }` so we also need the `!important` here to be able to override the default hidden behavior on the sphinx rendered scikit-learn.org. See: https://github.com/scikit-learn/scikit-learn/issues/21755 */display: inline-block !important;position: relative;}#sk-container-id-3 div.sk-text-repr-fallback {display: none;}</style><div id=\"sk-container-id-3\" class=\"sk-top-container\"><div class=\"sk-text-repr-fallback\"><pre>GridSearchCV(cv=GroupKFold(n_splits=10),\n",
              "             estimator=Pipeline(steps=[(&#x27;scaler&#x27;, StandardScaler()),\n",
              "                                       (&#x27;clf&#x27;, LogisticRegression())]),\n",
              "             n_jobs=12, param_grid={&#x27;clf__C&#x27;: [0.1, 0.5, 0.7, 1, 3, 5, 7, 9]})</pre><b>In a Jupyter environment, please rerun this cell to show the HTML representation or trust the notebook. <br />On GitHub, the HTML representation is unable to render, please try loading this page with nbviewer.org.</b></div><div class=\"sk-container\" hidden><div class=\"sk-item sk-dashed-wrapped\"><div class=\"sk-label-container\"><div class=\"sk-label sk-toggleable\"><input class=\"sk-toggleable__control sk-hidden--visually\" id=\"sk-estimator-id-9\" type=\"checkbox\" ><label for=\"sk-estimator-id-9\" class=\"sk-toggleable__label sk-toggleable__label-arrow\">GridSearchCV</label><div class=\"sk-toggleable__content\"><pre>GridSearchCV(cv=GroupKFold(n_splits=10),\n",
              "             estimator=Pipeline(steps=[(&#x27;scaler&#x27;, StandardScaler()),\n",
              "                                       (&#x27;clf&#x27;, LogisticRegression())]),\n",
              "             n_jobs=12, param_grid={&#x27;clf__C&#x27;: [0.1, 0.5, 0.7, 1, 3, 5, 7, 9]})</pre></div></div></div><div class=\"sk-parallel\"><div class=\"sk-parallel-item\"><div class=\"sk-item\"><div class=\"sk-label-container\"><div class=\"sk-label sk-toggleable\"><input class=\"sk-toggleable__control sk-hidden--visually\" id=\"sk-estimator-id-10\" type=\"checkbox\" ><label for=\"sk-estimator-id-10\" class=\"sk-toggleable__label sk-toggleable__label-arrow\">estimator: Pipeline</label><div class=\"sk-toggleable__content\"><pre>Pipeline(steps=[(&#x27;scaler&#x27;, StandardScaler()), (&#x27;clf&#x27;, LogisticRegression())])</pre></div></div></div><div class=\"sk-serial\"><div class=\"sk-item\"><div class=\"sk-serial\"><div class=\"sk-item\"><div class=\"sk-estimator sk-toggleable\"><input class=\"sk-toggleable__control sk-hidden--visually\" id=\"sk-estimator-id-11\" type=\"checkbox\" ><label for=\"sk-estimator-id-11\" class=\"sk-toggleable__label sk-toggleable__label-arrow\">StandardScaler</label><div class=\"sk-toggleable__content\"><pre>StandardScaler()</pre></div></div></div><div class=\"sk-item\"><div class=\"sk-estimator sk-toggleable\"><input class=\"sk-toggleable__control sk-hidden--visually\" id=\"sk-estimator-id-12\" type=\"checkbox\" ><label for=\"sk-estimator-id-12\" class=\"sk-toggleable__label sk-toggleable__label-arrow\">LogisticRegression</label><div class=\"sk-toggleable__content\"><pre>LogisticRegression()</pre></div></div></div></div></div></div></div></div></div></div></div></div>"
            ]
          },
          "metadata": {},
          "execution_count": 79
        }
      ]
    },
    {
      "cell_type": "code",
      "source": [
        "gscv.best_score_"
      ],
      "metadata": {
        "colab": {
          "base_uri": "https://localhost:8080/"
        },
        "id": "lpfsJMPoWcS1",
        "outputId": "73adb51b-52b8-494f-f4c9-bb00f76d6e79"
      },
      "execution_count": 80,
      "outputs": [
        {
          "output_type": "execute_result",
          "data": {
            "text/plain": [
              "0.65348837358381"
            ]
          },
          "metadata": {},
          "execution_count": 80
        }
      ]
    },
    {
      "cell_type": "code",
      "source": [],
      "metadata": {
        "id": "Cgxjf6g3W0UI"
      },
      "execution_count": null,
      "outputs": []
    }
  ]
}