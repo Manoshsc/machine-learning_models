{
  "nbformat": 4,
  "nbformat_minor": 0,
  "metadata": {
    "colab": {
      "provenance": [],
      "gpuType": "T4"
    },
    "kernelspec": {
      "name": "python3",
      "display_name": "Python 3"
    },
    "language_info": {
      "name": "python"
    },
    "accelerator": "GPU"
  },
  "cells": [
    {
      "cell_type": "code",
      "execution_count": null,
      "metadata": {
        "id": "ZtaoNKH-v7ED"
      },
      "outputs": [],
      "source": []
    },
    {
      "cell_type": "code",
      "execution_count": null,
      "metadata": {
        "colab": {
          "base_uri": "https://localhost:8080/"
        },
        "id": "Nqe_7V5RyNQJ",
        "outputId": "3e258d55-a724-43d0-e20b-8a06fcc53293"
      },
      "outputs": [
        {
          "output_type": "stream",
          "name": "stdout",
          "text": [
            "Mounted at /gdrive\n"
          ]
        }
      ],
      "source": [
        "from google.colab import drive\n",
        "drive.mount('/gdrive')"
      ]
    },
    {
      "cell_type": "code",
      "source": [
        "fname='/content/drive/MyDrive/dataset_EEG/*.edf'"
      ],
      "metadata": {
        "id": "Z-MqkRJrxkLS"
      },
      "execution_count": null,
      "outputs": []
    },
    {
      "cell_type": "code",
      "source": [
        "!pip install mne"
      ],
      "metadata": {
        "colab": {
          "base_uri": "https://localhost:8080/"
        },
        "id": "F_e8Z5OsyQ-4",
        "outputId": "4c0339bd-2939-429b-9e39-ad0387217b95"
      },
      "execution_count": null,
      "outputs": [
        {
          "output_type": "stream",
          "name": "stdout",
          "text": [
            "Collecting mne\n",
            "  Downloading mne-1.6.1-py3-none-any.whl (8.3 MB)\n",
            "\u001b[2K     \u001b[90m━━━━━━━━━━━━━━━━━━━━━━━━━━━━━━━━━━━━━━━━\u001b[0m \u001b[32m8.3/8.3 MB\u001b[0m \u001b[31m24.3 MB/s\u001b[0m eta \u001b[36m0:00:00\u001b[0m\n",
            "\u001b[?25hRequirement already satisfied: numpy>=1.21.2 in /usr/local/lib/python3.10/dist-packages (from mne) (1.25.2)\n",
            "Requirement already satisfied: scipy>=1.7.1 in /usr/local/lib/python3.10/dist-packages (from mne) (1.11.4)\n",
            "Requirement already satisfied: matplotlib>=3.5.0 in /usr/local/lib/python3.10/dist-packages (from mne) (3.7.1)\n",
            "Requirement already satisfied: tqdm in /usr/local/lib/python3.10/dist-packages (from mne) (4.66.2)\n",
            "Requirement already satisfied: pooch>=1.5 in /usr/local/lib/python3.10/dist-packages (from mne) (1.8.1)\n",
            "Requirement already satisfied: decorator in /usr/local/lib/python3.10/dist-packages (from mne) (4.4.2)\n",
            "Requirement already satisfied: packaging in /usr/local/lib/python3.10/dist-packages (from mne) (23.2)\n",
            "Requirement already satisfied: jinja2 in /usr/local/lib/python3.10/dist-packages (from mne) (3.1.3)\n",
            "Requirement already satisfied: lazy-loader>=0.3 in /usr/local/lib/python3.10/dist-packages (from mne) (0.3)\n",
            "Requirement already satisfied: contourpy>=1.0.1 in /usr/local/lib/python3.10/dist-packages (from matplotlib>=3.5.0->mne) (1.2.0)\n",
            "Requirement already satisfied: cycler>=0.10 in /usr/local/lib/python3.10/dist-packages (from matplotlib>=3.5.0->mne) (0.12.1)\n",
            "Requirement already satisfied: fonttools>=4.22.0 in /usr/local/lib/python3.10/dist-packages (from matplotlib>=3.5.0->mne) (4.49.0)\n",
            "Requirement already satisfied: kiwisolver>=1.0.1 in /usr/local/lib/python3.10/dist-packages (from matplotlib>=3.5.0->mne) (1.4.5)\n",
            "Requirement already satisfied: pillow>=6.2.0 in /usr/local/lib/python3.10/dist-packages (from matplotlib>=3.5.0->mne) (9.4.0)\n",
            "Requirement already satisfied: pyparsing>=2.3.1 in /usr/local/lib/python3.10/dist-packages (from matplotlib>=3.5.0->mne) (3.1.1)\n",
            "Requirement already satisfied: python-dateutil>=2.7 in /usr/local/lib/python3.10/dist-packages (from matplotlib>=3.5.0->mne) (2.8.2)\n",
            "Requirement already satisfied: platformdirs>=2.5.0 in /usr/local/lib/python3.10/dist-packages (from pooch>=1.5->mne) (4.2.0)\n",
            "Requirement already satisfied: requests>=2.19.0 in /usr/local/lib/python3.10/dist-packages (from pooch>=1.5->mne) (2.31.0)\n",
            "Requirement already satisfied: MarkupSafe>=2.0 in /usr/local/lib/python3.10/dist-packages (from jinja2->mne) (2.1.5)\n",
            "Requirement already satisfied: six>=1.5 in /usr/local/lib/python3.10/dist-packages (from python-dateutil>=2.7->matplotlib>=3.5.0->mne) (1.16.0)\n",
            "Requirement already satisfied: charset-normalizer<4,>=2 in /usr/local/lib/python3.10/dist-packages (from requests>=2.19.0->pooch>=1.5->mne) (3.3.2)\n",
            "Requirement already satisfied: idna<4,>=2.5 in /usr/local/lib/python3.10/dist-packages (from requests>=2.19.0->pooch>=1.5->mne) (3.6)\n",
            "Requirement already satisfied: urllib3<3,>=1.21.1 in /usr/local/lib/python3.10/dist-packages (from requests>=2.19.0->pooch>=1.5->mne) (2.0.7)\n",
            "Requirement already satisfied: certifi>=2017.4.17 in /usr/local/lib/python3.10/dist-packages (from requests>=2.19.0->pooch>=1.5->mne) (2024.2.2)\n",
            "Installing collected packages: mne\n",
            "Successfully installed mne-1.6.1\n"
          ]
        }
      ]
    },
    {
      "cell_type": "code",
      "source": [
        "from glob import glob\n",
        "import os\n",
        "import mne\n",
        "import numpy as np\n",
        "import pandas\n",
        "import matplotlib.pyplot as plt"
      ],
      "metadata": {
        "id": "3nfbRH98yIW2"
      },
      "execution_count": null,
      "outputs": []
    },
    {
      "cell_type": "code",
      "source": [
        "glob('/gdrive/MyDrive/dataset_EEG/*.edf')"
      ],
      "metadata": {
        "colab": {
          "base_uri": "https://localhost:8080/"
        },
        "id": "E0nrNbumyO8r",
        "outputId": "c7880580-40f4-4838-fa1c-d57c3f4199b0"
      },
      "execution_count": null,
      "outputs": [
        {
          "output_type": "execute_result",
          "data": {
            "text/plain": [
              "['/gdrive/MyDrive/dataset_EEG/h01.edf',\n",
              " '/gdrive/MyDrive/dataset_EEG/h02.edf',\n",
              " '/gdrive/MyDrive/dataset_EEG/h03.edf',\n",
              " '/gdrive/MyDrive/dataset_EEG/h04.edf',\n",
              " '/gdrive/MyDrive/dataset_EEG/h06.edf',\n",
              " '/gdrive/MyDrive/dataset_EEG/h07.edf',\n",
              " '/gdrive/MyDrive/dataset_EEG/h05.edf',\n",
              " '/gdrive/MyDrive/dataset_EEG/h08.edf',\n",
              " '/gdrive/MyDrive/dataset_EEG/h09.edf',\n",
              " '/gdrive/MyDrive/dataset_EEG/h10.edf',\n",
              " '/gdrive/MyDrive/dataset_EEG/h11.edf',\n",
              " '/gdrive/MyDrive/dataset_EEG/h12.edf',\n",
              " '/gdrive/MyDrive/dataset_EEG/h13.edf',\n",
              " '/gdrive/MyDrive/dataset_EEG/h14.edf',\n",
              " '/gdrive/MyDrive/dataset_EEG/s01.edf',\n",
              " '/gdrive/MyDrive/dataset_EEG/s08.edf',\n",
              " '/gdrive/MyDrive/dataset_EEG/s05.edf',\n",
              " '/gdrive/MyDrive/dataset_EEG/s03.edf',\n",
              " '/gdrive/MyDrive/dataset_EEG/s02.edf',\n",
              " '/gdrive/MyDrive/dataset_EEG/s04.edf',\n",
              " '/gdrive/MyDrive/dataset_EEG/s06.edf',\n",
              " '/gdrive/MyDrive/dataset_EEG/s10.edf',\n",
              " '/gdrive/MyDrive/dataset_EEG/s09.edf',\n",
              " '/gdrive/MyDrive/dataset_EEG/s07.edf',\n",
              " '/gdrive/MyDrive/dataset_EEG/s12.edf',\n",
              " '/gdrive/MyDrive/dataset_EEG/s13.edf',\n",
              " '/gdrive/MyDrive/dataset_EEG/s11.edf',\n",
              " '/gdrive/MyDrive/dataset_EEG/s14.edf']"
            ]
          },
          "metadata": {},
          "execution_count": 5
        }
      ]
    },
    {
      "cell_type": "code",
      "source": [
        "all_file_path=glob('/gdrive/MyDrive/dataset_EEG/*.edf')\n",
        "print(len(all_file_path))"
      ],
      "metadata": {
        "colab": {
          "base_uri": "https://localhost:8080/"
        },
        "id": "PbJ9H8OByk9x",
        "outputId": "0c25b701-0ad8-4cf8-bd47-bf9a44ad7275"
      },
      "execution_count": null,
      "outputs": [
        {
          "output_type": "stream",
          "name": "stdout",
          "text": [
            "28\n"
          ]
        }
      ]
    },
    {
      "cell_type": "code",
      "source": [
        "all_file_path[0].split('/')"
      ],
      "metadata": {
        "colab": {
          "base_uri": "https://localhost:8080/"
        },
        "id": "Fzn9zCjqyvYb",
        "outputId": "4a07589e-c433-423e-e0fe-daa23a9f1361"
      },
      "execution_count": null,
      "outputs": [
        {
          "output_type": "execute_result",
          "data": {
            "text/plain": [
              "['', 'gdrive', 'MyDrive', 'dataset_EEG', 'h01.edf']"
            ]
          },
          "metadata": {},
          "execution_count": 7
        }
      ]
    },
    {
      "cell_type": "code",
      "source": [
        "all_file_path[0].split('/')[4]"
      ],
      "metadata": {
        "colab": {
          "base_uri": "https://localhost:8080/",
          "height": 35
        },
        "id": "aZhYj23nzMnf",
        "outputId": "cb7c7179-5995-46b2-d179-8428bf3a785a"
      },
      "execution_count": null,
      "outputs": [
        {
          "output_type": "execute_result",
          "data": {
            "text/plain": [
              "'h01.edf'"
            ],
            "application/vnd.google.colaboratory.intrinsic+json": {
              "type": "string"
            }
          },
          "metadata": {},
          "execution_count": 8
        }
      ]
    },
    {
      "cell_type": "code",
      "source": [
        "healthy_file_path=[i for i in all_file_path if 'h' in i.split('/')[4]]\n",
        "patient_file_path=[i for i in all_file_path if 's' in i.split('/')[4]]"
      ],
      "metadata": {
        "id": "ITy6ZYKPzTSZ"
      },
      "execution_count": null,
      "outputs": []
    },
    {
      "cell_type": "code",
      "source": [
        "healthy_file_path"
      ],
      "metadata": {
        "colab": {
          "base_uri": "https://localhost:8080/"
        },
        "id": "_sAGH3YPzcZb",
        "outputId": "af1519c1-92e9-4731-be88-bbf8310f799b"
      },
      "execution_count": null,
      "outputs": [
        {
          "output_type": "execute_result",
          "data": {
            "text/plain": [
              "['/gdrive/MyDrive/dataset_EEG/h01.edf',\n",
              " '/gdrive/MyDrive/dataset_EEG/h02.edf',\n",
              " '/gdrive/MyDrive/dataset_EEG/h03.edf',\n",
              " '/gdrive/MyDrive/dataset_EEG/h04.edf',\n",
              " '/gdrive/MyDrive/dataset_EEG/h06.edf',\n",
              " '/gdrive/MyDrive/dataset_EEG/h07.edf',\n",
              " '/gdrive/MyDrive/dataset_EEG/h05.edf',\n",
              " '/gdrive/MyDrive/dataset_EEG/h08.edf',\n",
              " '/gdrive/MyDrive/dataset_EEG/h09.edf',\n",
              " '/gdrive/MyDrive/dataset_EEG/h10.edf',\n",
              " '/gdrive/MyDrive/dataset_EEG/h11.edf',\n",
              " '/gdrive/MyDrive/dataset_EEG/h12.edf',\n",
              " '/gdrive/MyDrive/dataset_EEG/h13.edf',\n",
              " '/gdrive/MyDrive/dataset_EEG/h14.edf']"
            ]
          },
          "metadata": {},
          "execution_count": 10
        }
      ]
    },
    {
      "cell_type": "code",
      "source": [
        "patient_file_path"
      ],
      "metadata": {
        "colab": {
          "base_uri": "https://localhost:8080/"
        },
        "id": "-I2w0fN0zf9C",
        "outputId": "48e2f3d4-90af-47fd-87eb-3adee9ae02b5"
      },
      "execution_count": null,
      "outputs": [
        {
          "output_type": "execute_result",
          "data": {
            "text/plain": [
              "['/gdrive/MyDrive/dataset_EEG/s01.edf',\n",
              " '/gdrive/MyDrive/dataset_EEG/s08.edf',\n",
              " '/gdrive/MyDrive/dataset_EEG/s05.edf',\n",
              " '/gdrive/MyDrive/dataset_EEG/s03.edf',\n",
              " '/gdrive/MyDrive/dataset_EEG/s02.edf',\n",
              " '/gdrive/MyDrive/dataset_EEG/s04.edf',\n",
              " '/gdrive/MyDrive/dataset_EEG/s06.edf',\n",
              " '/gdrive/MyDrive/dataset_EEG/s10.edf',\n",
              " '/gdrive/MyDrive/dataset_EEG/s09.edf',\n",
              " '/gdrive/MyDrive/dataset_EEG/s07.edf',\n",
              " '/gdrive/MyDrive/dataset_EEG/s12.edf',\n",
              " '/gdrive/MyDrive/dataset_EEG/s13.edf',\n",
              " '/gdrive/MyDrive/dataset_EEG/s11.edf',\n",
              " '/gdrive/MyDrive/dataset_EEG/s14.edf']"
            ]
          },
          "metadata": {},
          "execution_count": 11
        }
      ]
    },
    {
      "cell_type": "code",
      "source": [
        "def read_data(file_path):\n",
        "  data=mne.io.read_raw_edf(file_path,preload=True)\n",
        "  data.set_eeg_reference() #auto referencing with one electrode\n",
        "  data.filter(l_freq=0.5,h_freq=45) # bandpass filter of 0.5Hz to 45Hz\n",
        "  epochs=mne.make_fixed_length_epochs(data,duration=5,overlap=1)\n",
        "  array=epochs.get_data()\n",
        "  return array"
      ],
      "metadata": {
        "id": "6HmtsapyzjiJ"
      },
      "execution_count": null,
      "outputs": []
    },
    {
      "cell_type": "code",
      "source": [
        "sample_data = read_data(healthy_file_path[0])"
      ],
      "metadata": {
        "colab": {
          "base_uri": "https://localhost:8080/"
        },
        "id": "foGXliOuz5Ee",
        "outputId": "bbae9fa9-2ab5-4140-97cc-fe1001c8ced9"
      },
      "execution_count": null,
      "outputs": [
        {
          "output_type": "stream",
          "name": "stdout",
          "text": [
            "Extracting EDF parameters from /gdrive/MyDrive/dataset_EEG/h01.edf...\n",
            "EDF file detected\n",
            "Setting channel info structure...\n",
            "Creating raw.info structure...\n",
            "Reading 0 ... 231249  =      0.000 ...   924.996 secs...\n",
            "EEG channel type selected for re-referencing\n",
            "Applying average reference.\n",
            "Applying a custom ('EEG',) reference.\n",
            "Filtering raw data in 1 contiguous segment\n",
            "Setting up band-pass filter from 0.5 - 45 Hz\n",
            "\n",
            "FIR filter parameters\n",
            "---------------------\n",
            "Designing a one-pass, zero-phase, non-causal bandpass filter:\n",
            "- Windowed time-domain design (firwin) method\n",
            "- Hamming window with 0.0194 passband ripple and 53 dB stopband attenuation\n",
            "- Lower passband edge: 0.50\n",
            "- Lower transition bandwidth: 0.50 Hz (-6 dB cutoff frequency: 0.25 Hz)\n",
            "- Upper passband edge: 45.00 Hz\n",
            "- Upper transition bandwidth: 11.25 Hz (-6 dB cutoff frequency: 50.62 Hz)\n",
            "- Filter length: 1651 samples (6.604 s)\n",
            "\n",
            "Not setting metadata\n",
            "231 matching events found\n",
            "No baseline correction applied\n",
            "0 projection items activated\n",
            "Using data from preloaded Raw for 231 events and 1250 original time points ...\n",
            "0 bad epochs dropped\n"
          ]
        },
        {
          "output_type": "stream",
          "name": "stderr",
          "text": [
            "[Parallel(n_jobs=1)]: Done  17 tasks      | elapsed:    0.1s\n"
          ]
        }
      ]
    },
    {
      "cell_type": "code",
      "source": [
        "%%capture\n",
        "control_epochs_array=[read_data(i) for i in healthy_file_path]\n",
        "patient_epochs_array=[read_data(i) for i in patient_file_path]"
      ],
      "metadata": {
        "id": "hVz2EUx34EAG"
      },
      "execution_count": null,
      "outputs": []
    },
    {
      "cell_type": "code",
      "source": [
        "#control_epochs_array is the 14 arrays of 231 epoch with 19 channel and 1250 ms length signal\n",
        "#patients_epochs_array is the 14 arrays of 231 epoch with 19 channel and 1250 ms length signal\n",
        "\n",
        "control_epochs_array[0].shape,patient_epochs_array[0].shape"
      ],
      "metadata": {
        "colab": {
          "base_uri": "https://localhost:8080/"
        },
        "id": "RjfuvRRm41Tw",
        "outputId": "531ab8e6-383c-4912-cdb2-0a5d43a9fe76"
      },
      "execution_count": null,
      "outputs": [
        {
          "output_type": "execute_result",
          "data": {
            "text/plain": [
              "((231, 19, 1250), (211, 19, 1250))"
            ]
          },
          "metadata": {},
          "execution_count": 15
        }
      ]
    },
    {
      "cell_type": "code",
      "source": [
        "# label the signals\n",
        "# for control epochs label will be 0\n",
        "# for patient epochs label with be 1\n",
        "\n",
        "control_epochs_label = [len(i)*[0] for i in control_epochs_array]\n",
        "patient_epochs_label = [len(i)*[1] for i in patient_epochs_array]\n",
        "\n",
        "#create 14 list of 231 0s list for healthy signal\n",
        "#create 14 list of 231 1s list for patient signal\n",
        "\n",
        "len(control_epochs_label),len(patient_epochs_label)"
      ],
      "metadata": {
        "colab": {
          "base_uri": "https://localhost:8080/"
        },
        "id": "ot-aM-gs5Ccr",
        "outputId": "018be5c8-124b-40f6-c123-4b2eead44476"
      },
      "execution_count": null,
      "outputs": [
        {
          "output_type": "execute_result",
          "data": {
            "text/plain": [
              "(14, 14)"
            ]
          },
          "metadata": {},
          "execution_count": 16
        }
      ]
    },
    {
      "cell_type": "code",
      "source": [
        "control_epochs_label\n",
        "len(patient_epochs_label[0])"
      ],
      "metadata": {
        "colab": {
          "base_uri": "https://localhost:8080/"
        },
        "id": "TJy7PP7F6xm1",
        "outputId": "a3927f78-a2f5-4fee-bf50-473a4e5f6650"
      },
      "execution_count": null,
      "outputs": [
        {
          "output_type": "execute_result",
          "data": {
            "text/plain": [
              "211"
            ]
          },
          "metadata": {},
          "execution_count": 17
        }
      ]
    },
    {
      "cell_type": "code",
      "source": [
        "len(control_epochs_label[0])\n"
      ],
      "metadata": {
        "colab": {
          "base_uri": "https://localhost:8080/"
        },
        "id": "MBQyZEL25HVi",
        "outputId": "af29c4fa-ad7d-42c1-b4e8-c6d707e713bb"
      },
      "execution_count": null,
      "outputs": [
        {
          "output_type": "execute_result",
          "data": {
            "text/plain": [
              "231"
            ]
          },
          "metadata": {},
          "execution_count": 18
        }
      ]
    },
    {
      "cell_type": "code",
      "source": [
        "data_list = control_epochs_array + patient_epochs_array\n",
        "label_list = control_epochs_label + patient_epochs_label"
      ],
      "metadata": {
        "id": "Nc6JjHOE5Nh-"
      },
      "execution_count": null,
      "outputs": []
    },
    {
      "cell_type": "code",
      "source": [
        "enumerate(data_list)"
      ],
      "metadata": {
        "colab": {
          "base_uri": "https://localhost:8080/"
        },
        "id": "iZi9Lf2x5RiR",
        "outputId": "4564debf-f26b-440d-dc58-456588f9f3de"
      },
      "execution_count": null,
      "outputs": [
        {
          "output_type": "execute_result",
          "data": {
            "text/plain": [
              "<enumerate at 0x7bf8799ad080>"
            ]
          },
          "metadata": {},
          "execution_count": 20
        }
      ]
    },
    {
      "cell_type": "code",
      "source": [
        "#example of enumerate\n",
        "l1 = [\"eat\", \"sleep\", \"repeat\"]\n",
        "s1 = \"geek\"\n",
        "\n",
        "# creating enumerate objects\n",
        "obj1 = enumerate(l1)\n",
        "obj2 = enumerate(s1)\n",
        "\n",
        "print (\"Return type:\", type(obj1))\n",
        "print (list(enumerate(l1)))\n",
        "\n",
        "# changing start index to 2 from 0\n",
        "print (list(enumerate(s1, 2)))"
      ],
      "metadata": {
        "colab": {
          "base_uri": "https://localhost:8080/"
        },
        "id": "iffvSoaH5XX6",
        "outputId": "41177b7e-9e7f-4910-e98c-426536bec28d"
      },
      "execution_count": null,
      "outputs": [
        {
          "output_type": "stream",
          "name": "stdout",
          "text": [
            "Return type: <class 'enumerate'>\n",
            "[(0, 'eat'), (1, 'sleep'), (2, 'repeat')]\n",
            "[(2, 'g'), (3, 'e'), (4, 'e'), (5, 'k')]\n"
          ]
        }
      ]
    },
    {
      "cell_type": "code",
      "source": [
        "group_list = [ [i]*len(j) for i,j in enumerate(data_list)]\n",
        "len(group_list)"
      ],
      "metadata": {
        "colab": {
          "base_uri": "https://localhost:8080/"
        },
        "id": "eCGRZxlz5hbS",
        "outputId": "bd662411-7d00-4ffb-b434-84c95e7cd43e"
      },
      "execution_count": null,
      "outputs": [
        {
          "output_type": "execute_result",
          "data": {
            "text/plain": [
              "28"
            ]
          },
          "metadata": {},
          "execution_count": 22
        }
      ]
    },
    {
      "cell_type": "code",
      "source": [
        "len(group_list[0])"
      ],
      "metadata": {
        "colab": {
          "base_uri": "https://localhost:8080/"
        },
        "id": "_G-FHDfgR1ai",
        "outputId": "bc4d3d9a-ead8-4127-a2e2-712fe9110498"
      },
      "execution_count": null,
      "outputs": [
        {
          "output_type": "execute_result",
          "data": {
            "text/plain": [
              "231"
            ]
          },
          "metadata": {},
          "execution_count": 23
        }
      ]
    },
    {
      "cell_type": "code",
      "source": [
        "#converting list to array\n",
        "epochs_array = np.vstack(data_list)\n",
        "epochs_label_array= np.hstack(label_list)\n",
        "group_array=np.hstack(group_list)\n",
        "\n",
        "print(epochs_array.shape, epochs_label_array.shape,group_array.shape)"
      ],
      "metadata": {
        "colab": {
          "base_uri": "https://localhost:8080/"
        },
        "id": "aoc8N_Lpk0CB",
        "outputId": "56ed0ece-fde7-4cb4-d2db-af2d765895b9"
      },
      "execution_count": null,
      "outputs": [
        {
          "output_type": "stream",
          "name": "stdout",
          "text": [
            "(7201, 19, 1250) (7201,) (7201,)\n"
          ]
        }
      ]
    },
    {
      "cell_type": "code",
      "source": [
        "epochs_array=np.moveaxis(epochs_array,1,2)\n",
        "epochs_array.shape"
      ],
      "metadata": {
        "colab": {
          "base_uri": "https://localhost:8080/"
        },
        "id": "hQwuRjZdvrc2",
        "outputId": "dabe5bfd-da5b-4e12-ef3b-feb82c521557"
      },
      "execution_count": null,
      "outputs": [
        {
          "output_type": "execute_result",
          "data": {
            "text/plain": [
              "(7201, 1250, 19)"
            ]
          },
          "metadata": {},
          "execution_count": 25
        }
      ]
    },
    {
      "cell_type": "code",
      "source": [
        "#sequential API to create models\n",
        "from keras.models import Sequential\n",
        "\n",
        "#Component to create a model\n",
        "from keras.layers import Dense, Input, Conv1D, MaxPool1D, Dropout, AveragePooling1D, GlobalAveragePooling1D\n",
        "\n",
        "from keras.layers import LeakyReLU\n",
        "\n",
        "#Stochastic Gradient Desent Algorithm\n",
        "from keras.optimizers import SGD\n",
        "\n",
        "#An keras utility to visualize model graph\n",
        "from keras.utils import plot_model\n",
        "\n",
        "from keras.backend import clear_session\n",
        "\n",
        "#Another ML library that has many utilities for image operation\n",
        "import skimage\n",
        "\n",
        "from skimage.io import imshow\n",
        "import matplotlib.pyplot as plt\n",
        "import numpy as np\n"
      ],
      "metadata": {
        "id": "aztQrZWZ96dT"
      },
      "execution_count": null,
      "outputs": []
    },
    {
      "cell_type": "code",
      "source": [
        "from tensorflow.keras.layers import Conv1D,BatchNormalization,LeakyReLU,MaxPool1D,GlobalAveragePooling1D,Dense,Dropout,AveragePooling1D\n",
        "from tensorflow.keras.models import Sequential\n",
        "from tensorflow.keras.backend import clear_session\n",
        "\n"
      ],
      "metadata": {
        "id": "9ntU-CKo_RjE"
      },
      "execution_count": null,
      "outputs": []
    },
    {
      "cell_type": "code",
      "source": [
        "def cnnmodel():\n",
        "  clear_session()\n",
        "  model=Sequential()\n",
        "  model.add(Conv1D(filters=5,kernel_size=3,strides=1,input_shape=(1250,19)))#1\n",
        "  model.add(BatchNormalization())\n",
        "  model.add(LeakyReLU())\n",
        "  model.add(MaxPool1D(pool_size=2,strides=2))#2\n",
        "  model.add(Conv1D(filters=5,kernel_size=3,strides=1))#3\n",
        "  model.add(LeakyReLU())\n",
        "  model.add(MaxPool1D(pool_size=2,strides=2))#4\n",
        "  model.add(Dropout(0.5))\n",
        "  model.add(Conv1D(filters=5,kernel_size=3,strides=1))#5\n",
        "  model.add(LeakyReLU())\n",
        "  model.add(AveragePooling1D(pool_size=2,strides=2))#6\n",
        "  model.add(Dropout(0.5))\n",
        "  model.add(Conv1D(filters=5,kernel_size=3,strides=1))#7\n",
        "  model.add(LeakyReLU())\n",
        "  model.add(AveragePooling1D(pool_size=2,strides=2))#8\n",
        "  model.add(Conv1D(filters=5,kernel_size=3,strides=1))#9\n",
        "  model.add(LeakyReLU())\n",
        "  model.add(GlobalAveragePooling1D())#10\n",
        "  model.add(Dense(1,activation='sigmoid'))#11\n",
        "\n",
        "  model.compile('adam',loss='binary_crossentropy',metrics=['accuracy'])\n",
        "  return model\n",
        "\n",
        "\n",
        "model=cnnmodel()\n",
        "model.summary()\n",
        "\n",
        "\n"
      ],
      "metadata": {
        "colab": {
          "base_uri": "https://localhost:8080/"
        },
        "id": "8mztYwJiEGfO",
        "outputId": "1e3fd999-0d3c-4a82-b4a9-05eedcd40203"
      },
      "execution_count": null,
      "outputs": [
        {
          "output_type": "stream",
          "name": "stdout",
          "text": [
            "Model: \"sequential\"\n",
            "_________________________________________________________________\n",
            " Layer (type)                Output Shape              Param #   \n",
            "=================================================================\n",
            " conv1d (Conv1D)             (None, 1248, 5)           290       \n",
            "                                                                 \n",
            " batch_normalization (Batch  (None, 1248, 5)           20        \n",
            " Normalization)                                                  \n",
            "                                                                 \n",
            " leaky_re_lu (LeakyReLU)     (None, 1248, 5)           0         \n",
            "                                                                 \n",
            " max_pooling1d (MaxPooling1  (None, 624, 5)            0         \n",
            " D)                                                              \n",
            "                                                                 \n",
            " conv1d_1 (Conv1D)           (None, 622, 5)            80        \n",
            "                                                                 \n",
            " leaky_re_lu_1 (LeakyReLU)   (None, 622, 5)            0         \n",
            "                                                                 \n",
            " max_pooling1d_1 (MaxPoolin  (None, 311, 5)            0         \n",
            " g1D)                                                            \n",
            "                                                                 \n",
            " dropout (Dropout)           (None, 311, 5)            0         \n",
            "                                                                 \n",
            " conv1d_2 (Conv1D)           (None, 309, 5)            80        \n",
            "                                                                 \n",
            " leaky_re_lu_2 (LeakyReLU)   (None, 309, 5)            0         \n",
            "                                                                 \n",
            " average_pooling1d (Average  (None, 154, 5)            0         \n",
            " Pooling1D)                                                      \n",
            "                                                                 \n",
            " dropout_1 (Dropout)         (None, 154, 5)            0         \n",
            "                                                                 \n",
            " conv1d_3 (Conv1D)           (None, 152, 5)            80        \n",
            "                                                                 \n",
            " leaky_re_lu_3 (LeakyReLU)   (None, 152, 5)            0         \n",
            "                                                                 \n",
            " average_pooling1d_1 (Avera  (None, 76, 5)             0         \n",
            " gePooling1D)                                                    \n",
            "                                                                 \n",
            " conv1d_4 (Conv1D)           (None, 74, 5)             80        \n",
            "                                                                 \n",
            " leaky_re_lu_4 (LeakyReLU)   (None, 74, 5)             0         \n",
            "                                                                 \n",
            " global_average_pooling1d (  (None, 5)                 0         \n",
            " GlobalAveragePooling1D)                                         \n",
            "                                                                 \n",
            " dense (Dense)               (None, 1)                 6         \n",
            "                                                                 \n",
            "=================================================================\n",
            "Total params: 636 (2.48 KB)\n",
            "Trainable params: 626 (2.45 KB)\n",
            "Non-trainable params: 10 (40.00 Byte)\n",
            "_________________________________________________________________\n"
          ]
        }
      ]
    },
    {
      "cell_type": "code",
      "source": [
        "plot_model(model)"
      ],
      "metadata": {
        "colab": {
          "base_uri": "https://localhost:8080/",
          "height": 1000
        },
        "id": "CM_YrbhfKrx-",
        "outputId": "689260ae-5a6c-4cd5-9aec-f4f442064763"
      },
      "execution_count": null,
      "outputs": [
        {
          "output_type": "execute_result",
          "data": {
            "image/png": "[encoded data removed]",
            "text/plain": [
              "<IPython.core.display.Image object>"
            ]
          },
          "metadata": {},
          "execution_count": 29
        }
      ]
    },
    {
      "cell_type": "code",
      "source": [
        "from sklearn.model_selection import GroupKFold, LeaveOneGroupOut\n",
        "from sklearn.preprocessing import StandardScaler\n",
        "gkf=GroupKFold()"
      ],
      "metadata": {
        "id": "ONCvboJ1K3Xr"
      },
      "execution_count": null,
      "outputs": []
    },
    {
      "cell_type": "code",
      "source": [
        "accuracy=[]\n",
        "for train_index,val_index in gkf.split(epochs_array,epochs_label_array,groups=group_array):\n",
        "  train_features,train_labels=epochs_array[train_index],epochs_label_array[train_index]\n",
        "  val_features,val_labels=epochs_array[val_index],epochs_label_array[val_index]\n",
        "  scaler=StandardScaler()\n",
        "  train_features= scaler.fit_transform(train_features.reshape(-1,train_features.shape[-1])).reshape(train_features.shape)\n",
        "  val_features = scaler.fit_transform(val_features.reshape(-1,val_features.shape[-1])).reshape(val_features.shape)\n",
        "  model=cnnmodel()\n",
        "  model.fit(train_features,train_labels,epochs=10,batch_size=128,validation_data=(val_features,val_labels))\n",
        "  accuracy.append(model.evaluate(val_features,val_labels)[1])"
      ],
      "metadata": {
        "colab": {
          "base_uri": "https://localhost:8080/"
        },
        "id": "0V-qR5fMURZ0",
        "outputId": "c503aa40-1c2e-4979-d0d9-02f07aa91dc7"
      },
      "execution_count": null,
      "outputs": [
        {
          "output_type": "stream",
          "name": "stdout",
          "text": [
            "Epoch 1/10\n",
            "45/45 [==============================] - 16s 75ms/step - loss: 0.6819 - accuracy: 0.5670 - val_loss: 0.7276 - val_accuracy: 0.3720\n",
            "Epoch 2/10\n",
            "45/45 [==============================] - 1s 23ms/step - loss: 0.6555 - accuracy: 0.5940 - val_loss: 0.6888 - val_accuracy: 0.3782\n",
            "Epoch 3/10\n",
            "45/45 [==============================] - 1s 21ms/step - loss: 0.5885 - accuracy: 0.6764 - val_loss: 0.5177 - val_accuracy: 0.8566\n",
            "Epoch 4/10\n",
            "45/45 [==============================] - 1s 25ms/step - loss: 0.4787 - accuracy: 0.7839 - val_loss: 0.4318 - val_accuracy: 0.8408\n",
            "Epoch 5/10\n",
            "45/45 [==============================] - 2s 34ms/step - loss: 0.4178 - accuracy: 0.8125 - val_loss: 0.3967 - val_accuracy: 0.8620\n",
            "Epoch 6/10\n",
            "45/45 [==============================] - 2s 34ms/step - loss: 0.3926 - accuracy: 0.8369 - val_loss: 0.3917 - val_accuracy: 0.8586\n",
            "Epoch 7/10\n",
            "45/45 [==============================] - 1s 27ms/step - loss: 0.3600 - accuracy: 0.8553 - val_loss: 0.3851 - val_accuracy: 0.8703\n",
            "Epoch 8/10\n",
            "45/45 [==============================] - 1s 22ms/step - loss: 0.3177 - accuracy: 0.8811 - val_loss: 0.3858 - val_accuracy: 0.8538\n",
            "Epoch 9/10\n",
            "45/45 [==============================] - 1s 22ms/step - loss: 0.3215 - accuracy: 0.8795 - val_loss: 0.3857 - val_accuracy: 0.8456\n",
            "Epoch 10/10\n",
            "45/45 [==============================] - 1s 25ms/step - loss: 0.2997 - accuracy: 0.8914 - val_loss: 0.3902 - val_accuracy: 0.8277\n",
            "46/46 [==============================] - 1s 7ms/step - loss: 0.3902 - accuracy: 0.8277\n",
            "Epoch 1/10\n",
            "45/45 [==============================] - 4s 41ms/step - loss: 0.6810 - accuracy: 0.5514 - val_loss: 0.6793 - val_accuracy: 0.5376\n",
            "Epoch 2/10\n",
            "45/45 [==============================] - 1s 15ms/step - loss: 0.6627 - accuracy: 0.5590 - val_loss: 0.6684 - val_accuracy: 0.5403\n",
            "Epoch 3/10\n",
            "45/45 [==============================] - 1s 15ms/step - loss: 0.6254 - accuracy: 0.5716 - val_loss: 0.6582 - val_accuracy: 0.6608\n",
            "Epoch 4/10\n",
            "45/45 [==============================] - 1s 15ms/step - loss: 0.5788 - accuracy: 0.6995 - val_loss: 0.6675 - val_accuracy: 0.6608\n",
            "Epoch 5/10\n",
            "45/45 [==============================] - 1s 16ms/step - loss: 0.5296 - accuracy: 0.7558 - val_loss: 0.6895 - val_accuracy: 0.6425\n",
            "Epoch 6/10\n",
            "45/45 [==============================] - 1s 19ms/step - loss: 0.4452 - accuracy: 0.8150 - val_loss: 0.7672 - val_accuracy: 0.6906\n",
            "Epoch 7/10\n",
            "45/45 [==============================] - 1s 19ms/step - loss: 0.3599 - accuracy: 0.8477 - val_loss: 0.7889 - val_accuracy: 0.7055\n",
            "Epoch 8/10\n",
            "45/45 [==============================] - 1s 20ms/step - loss: 0.2919 - accuracy: 0.8845 - val_loss: 1.0318 - val_accuracy: 0.6879\n",
            "Epoch 9/10\n",
            "45/45 [==============================] - 1s 17ms/step - loss: 0.2877 - accuracy: 0.8959 - val_loss: 0.8102 - val_accuracy: 0.6479\n",
            "Epoch 10/10\n",
            "45/45 [==============================] - 1s 15ms/step - loss: 0.2704 - accuracy: 0.8908 - val_loss: 1.0100 - val_accuracy: 0.6872\n",
            "47/47 [==============================] - 0s 7ms/step - loss: 1.0100 - accuracy: 0.6872\n",
            "Epoch 1/10\n",
            "47/47 [==============================] - 5s 39ms/step - loss: 0.6683 - accuracy: 0.5742 - val_loss: 0.7010 - val_accuracy: 0.4312\n",
            "Epoch 2/10\n",
            "47/47 [==============================] - 1s 14ms/step - loss: 0.6390 - accuracy: 0.5763 - val_loss: 0.6770 - val_accuracy: 0.6043\n",
            "Epoch 3/10\n",
            "47/47 [==============================] - 1s 14ms/step - loss: 0.5940 - accuracy: 0.6623 - val_loss: 0.6449 - val_accuracy: 0.6298\n",
            "Epoch 4/10\n",
            "47/47 [==============================] - 1s 20ms/step - loss: 0.5287 - accuracy: 0.7508 - val_loss: 0.7458 - val_accuracy: 0.5866\n",
            "Epoch 5/10\n",
            "47/47 [==============================] - 1s 17ms/step - loss: 0.4806 - accuracy: 0.7842 - val_loss: 0.8352 - val_accuracy: 0.5842\n",
            "Epoch 6/10\n",
            "47/47 [==============================] - 1s 23ms/step - loss: 0.4654 - accuracy: 0.7958 - val_loss: 0.8595 - val_accuracy: 0.5889\n",
            "Epoch 7/10\n",
            "47/47 [==============================] - 1s 24ms/step - loss: 0.4245 - accuracy: 0.8202 - val_loss: 0.8859 - val_accuracy: 0.5827\n",
            "Epoch 8/10\n",
            "47/47 [==============================] - 1s 20ms/step - loss: 0.3781 - accuracy: 0.8443 - val_loss: 0.9026 - val_accuracy: 0.5866\n",
            "Epoch 9/10\n",
            "47/47 [==============================] - 1s 24ms/step - loss: 0.3340 - accuracy: 0.8691 - val_loss: 0.8398 - val_accuracy: 0.6105\n",
            "Epoch 10/10\n",
            "47/47 [==============================] - 1s 24ms/step - loss: 0.3207 - accuracy: 0.8774 - val_loss: 0.8056 - val_accuracy: 0.6391\n",
            "41/41 [==============================] - 0s 4ms/step - loss: 0.8056 - accuracy: 0.6391\n",
            "Epoch 1/10\n",
            "45/45 [==============================] - 4s 42ms/step - loss: 0.6831 - accuracy: 0.5263 - val_loss: 0.7117 - val_accuracy: 0.5353\n",
            "Epoch 2/10\n",
            "45/45 [==============================] - 1s 14ms/step - loss: 0.6549 - accuracy: 0.5520 - val_loss: 0.7223 - val_accuracy: 0.5346\n",
            "Epoch 3/10\n",
            "45/45 [==============================] - 1s 14ms/step - loss: 0.6314 - accuracy: 0.5837 - val_loss: 0.8443 - val_accuracy: 0.5346\n",
            "Epoch 4/10\n",
            "45/45 [==============================] - 1s 15ms/step - loss: 0.5926 - accuracy: 0.7035 - val_loss: 1.0168 - val_accuracy: 0.5353\n",
            "Epoch 5/10\n",
            "45/45 [==============================] - 1s 15ms/step - loss: 0.5422 - accuracy: 0.7375 - val_loss: 1.8105 - val_accuracy: 0.5353\n",
            "Epoch 6/10\n",
            "45/45 [==============================] - 1s 15ms/step - loss: 0.5006 - accuracy: 0.7639 - val_loss: 2.1207 - val_accuracy: 0.5360\n",
            "Epoch 7/10\n",
            "45/45 [==============================] - 1s 19ms/step - loss: 0.4709 - accuracy: 0.7837 - val_loss: 2.1502 - val_accuracy: 0.5353\n",
            "Epoch 8/10\n",
            "45/45 [==============================] - 1s 19ms/step - loss: 0.4420 - accuracy: 0.8043 - val_loss: 2.3264 - val_accuracy: 0.5353\n",
            "Epoch 9/10\n",
            "45/45 [==============================] - 1s 20ms/step - loss: 0.4452 - accuracy: 0.8015 - val_loss: 2.0207 - val_accuracy: 0.5373\n",
            "Epoch 10/10\n",
            "45/45 [==============================] - 1s 16ms/step - loss: 0.4073 - accuracy: 0.8234 - val_loss: 2.4234 - val_accuracy: 0.5353\n",
            "47/47 [==============================] - 0s 7ms/step - loss: 2.4234 - accuracy: 0.5353\n",
            "Epoch 1/10\n",
            "45/45 [==============================] - 5s 48ms/step - loss: 0.6881 - accuracy: 0.5543 - val_loss: 0.6425 - val_accuracy: 0.8459\n",
            "Epoch 2/10\n",
            "45/45 [==============================] - 1s 15ms/step - loss: 0.6538 - accuracy: 0.6465 - val_loss: 0.6983 - val_accuracy: 0.4004\n",
            "Epoch 3/10\n",
            "45/45 [==============================] - 1s 14ms/step - loss: 0.5795 - accuracy: 0.7234 - val_loss: 0.6937 - val_accuracy: 0.5182\n",
            "Epoch 4/10\n",
            "45/45 [==============================] - 1s 16ms/step - loss: 0.5022 - accuracy: 0.7792 - val_loss: 0.7480 - val_accuracy: 0.4838\n",
            "Epoch 5/10\n",
            "45/45 [==============================] - 1s 15ms/step - loss: 0.4557 - accuracy: 0.7988 - val_loss: 0.5597 - val_accuracy: 0.8122\n",
            "Epoch 6/10\n",
            "45/45 [==============================] - 1s 16ms/step - loss: 0.4216 - accuracy: 0.8133 - val_loss: 0.5514 - val_accuracy: 0.8122\n",
            "Epoch 7/10\n",
            "45/45 [==============================] - 1s 14ms/step - loss: 0.4056 - accuracy: 0.8318 - val_loss: 0.5754 - val_accuracy: 0.7678\n",
            "Epoch 8/10\n",
            "45/45 [==============================] - 1s 15ms/step - loss: 0.3910 - accuracy: 0.8268 - val_loss: 0.5602 - val_accuracy: 0.7826\n",
            "Epoch 9/10\n",
            "45/45 [==============================] - 1s 14ms/step - loss: 0.3780 - accuracy: 0.8451 - val_loss: 0.5789 - val_accuracy: 0.7557\n",
            "Epoch 10/10\n",
            "45/45 [==============================] - 1s 15ms/step - loss: 0.3502 - accuracy: 0.8604 - val_loss: 0.5461 - val_accuracy: 0.7860\n",
            "47/47 [==============================] - 0s 4ms/step - loss: 0.5461 - accuracy: 0.7860\n"
          ]
        }
      ]
    },
    {
      "cell_type": "code",
      "source": [
        "np.mean(accuracy)*100"
      ],
      "metadata": {
        "colab": {
          "base_uri": "https://localhost:8080/"
        },
        "id": "LM7yCf-Cab1i",
        "outputId": "d9bb1bd6-c114-46d4-82c0-f48593394e7e"
      },
      "execution_count": null,
      "outputs": [
        {
          "output_type": "execute_result",
          "data": {
            "text/plain": [
              "69.50688362121582"
            ]
          },
          "metadata": {},
          "execution_count": 47
        }
      ]
    },
    {
      "cell_type": "code",
      "source": [],
      "metadata": {
        "id": "0rF0vVlreP_r"
      },
      "execution_count": null,
      "outputs": []
    }
  ]
}