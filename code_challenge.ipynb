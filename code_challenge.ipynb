{
 "cells": [
  {
   "cell_type": "code",
   "execution_count": 1,
   "metadata": {},
   "outputs": [
    {
     "name": "stderr",
     "output_type": "stream",
     "text": [
      "C:\\Users\\User\\AppData\\Local\\Temp\\ipykernel_8796\\610210417.py:7: DeprecationWarning: `set_matplotlib_formats` is deprecated since IPython 7.23, directly use `matplotlib_inline.backend_inline.set_matplotlib_formats()`\n",
      "  display.set_matplotlib_formats('svg')\n"
     ]
    }
   ],
   "source": [
    "#import Libraries\n",
    "import numpy as np\n",
    "import torch\n",
    "import torch.nn as nn\n",
    "import matplotlib.pyplot as plt\n",
    "from IPython import display\n",
    "display.set_matplotlib_formats('svg')"
   ]
  },
  {
   "cell_type": "markdown",
   "metadata": {},
   "source": [
    "<h3>A function that creates and train the model"
   ]
  },
  {
   "cell_type": "code",
   "execution_count": 15,
   "metadata": {},
   "outputs": [],
   "source": [
    "def buildandtrainmodel(x,y):\n",
    "\n",
    "    #build the model\n",
    "    ANNreg = nn.Sequential(\n",
    "        nn.Linear(1,1),\n",
    "        nn.ReLU(),\n",
    "        nn.Linear(1,1)\n",
    "    )\n",
    "\n",
    "    #loss and optimizer function\n",
    "    lossfun = nn.MSELoss()\n",
    "    optimizer = torch.optim.SGD(ANNreg.parameters(),lr=0.05)\n",
    "    #train the model\n",
    "    numepochs= 500\n",
    "    losses = torch.zeros(numepochs)\n",
    "\n",
    "    for epochi in range(numepochs):\n",
    "        #forward pass\n",
    "        yHat = ANNreg(x)\n",
    "        #compute loss\n",
    "        loss = lossfun(yHat,y)\n",
    "        losses[epochi]=loss\n",
    "        #backdrop\n",
    "        optimizer.zero_grad()\n",
    "        loss.backward()\n",
    "        optimizer.step()\n",
    "\n",
    "    #compute the model prediction\n",
    "    predictions = ANNreg(x)\n",
    "\n",
    "    #output:\n",
    "    return predictions,losses\n",
    "\n",
    "\n",
    "\n"
   ]
  },
  {
   "cell_type": "markdown",
   "metadata": {},
   "source": [
    "<h3>A function that crates the data"
   ]
  },
  {
   "cell_type": "code",
   "execution_count": 16,
   "metadata": {},
   "outputs": [],
   "source": [
    "def createdata(m):\n",
    "    N=50\n",
    "    x=torch.randn(N,1)\n",
    "    y=m*x + torch.randn(N,1)/2\n",
    "    return x,y"
   ]
  },
  {
   "cell_type": "code",
   "execution_count": 17,
   "metadata": {},
   "outputs": [],
   "source": [
    "#test the function\n",
    "x,y = createdata(0.8)"
   ]
  },
  {
   "cell_type": "code",
   "execution_count": 18,
   "metadata": {},
   "outputs": [
    {
     "data": {
      "text/plain": [
       "50"
      ]
     },
     "execution_count": 18,
     "metadata": {},
     "output_type": "execute_result"
    }
   ],
   "source": [
    "len(y)"
   ]
  },
  {
   "cell_type": "code",
   "execution_count": 20,
   "metadata": {},
   "outputs": [
    {
     "name": "stderr",
     "output_type": "stream",
     "text": [
      "c:\\Users\\User\\AppData\\Local\\Programs\\Python\\Python312\\Lib\\site-packages\\numpy\\lib\\function_base.py:2897: RuntimeWarning: invalid value encountered in divide\n",
      "  c /= stddev[:, None]\n",
      "c:\\Users\\User\\AppData\\Local\\Programs\\Python\\Python312\\Lib\\site-packages\\numpy\\lib\\function_base.py:2898: RuntimeWarning: invalid value encountered in divide\n",
      "  c /= stddev[None, :]\n"
     ]
    }
   ],
   "source": [
    "#the slopes to simulate\n",
    "slopes = np.linspace(-2,2,21)\n",
    "\n",
    "numExps = 50\n",
    "\n",
    "#initialize output matrix\n",
    "results = np.zeros((len(slopes),numExps,2))\n",
    "\n",
    "for slopei in range(len(slopes)):\n",
    "    for N in range(numExps):\n",
    "        #create a dataset and run the model\n",
    "        x,y = createdata(slopes[slopei])\n",
    "        yHat,losses = buildandtrainmodel(x,y)\n",
    "\n",
    "        #store the final loss and performance \n",
    "        results[slopei,N,0]=losses[-1]\n",
    "        results[slopei,N,1]=np.corrcoef(y.T,yHat.detach().T)[0,1]\n",
    "\n",
    "#correlation can be 0 if the model didn't do well set nan's->0\n",
    "results[np.isnan(results)]=0\n"
   ]
  },
  {
   "cell_type": "code",
   "execution_count": null,
   "metadata": {},
   "outputs": [],
   "source": []
  }
 ],
 "metadata": {
  "kernelspec": {
   "display_name": "Python 3",
   "language": "python",
   "name": "python3"
  },
  "language_info": {
   "codemirror_mode": {
    "name": "ipython",
    "version": 3
   },
   "file_extension": ".py",
   "mimetype": "text/x-python",
   "name": "python",
   "nbconvert_exporter": "python",
   "pygments_lexer": "ipython3",
   "version": "3.12.1"
  }
 },
 "nbformat": 4,
 "nbformat_minor": 2
}
