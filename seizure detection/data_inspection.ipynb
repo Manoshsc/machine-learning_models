{
 "cells": [
  {
   "cell_type": "code",
   "execution_count": 1,
   "metadata": {},
   "outputs": [],
   "source": [
    "import pandas as pd, numpy as np, os\n",
    "import matplotlib.pyplot as plt, gc\n"
   ]
  },
  {
   "cell_type": "code",
   "execution_count": 9,
   "metadata": {},
   "outputs": [
    {
     "name": "stdout",
     "output_type": "stream",
     "text": [
      "         Fp1         F3         C3     P3         F7     T3         T5     O1  \\\n",
      "0   9.210000 -47.459999  15.100000   8.22 -16.900000 -22.99 -25.820000 -10.09   \n",
      "1  -3.590000 -30.290001  32.380001  10.80 -68.980003 -21.60 -15.080000  -9.21   \n",
      "2 -26.040001 -60.070000   2.370000 -10.15 -34.689999 -31.40 -31.920000 -26.98   \n",
      "3  -3.040000 -36.250000  29.559999  14.53 -14.010000 -11.90 -14.230000  -6.31   \n",
      "4  -4.630000 -20.160000  25.190001   1.19 -44.580002 -23.51 -30.709999 -17.60   \n",
      "\n",
      "          Fz     Cz         Pz         Fp2         F4     C4     P4  \\\n",
      "0  28.370001  -3.01 -27.299999  101.040001  35.110001  14.54  18.33   \n",
      "1  26.360001  -8.98 -32.279999   95.800003  26.389999   4.82  10.54   \n",
      "2  -1.940000 -28.77 -49.770000   73.449997  -3.680000 -17.32 -16.15   \n",
      "3  26.040001  -2.77 -25.030001   91.010002  22.610001   6.90   9.93   \n",
      "4  25.420000  -8.86 -33.959999   89.449997  19.440001  -2.08   6.11   \n",
      "\n",
      "          F8         T4         T6     O2         EKG  \n",
      "0  28.540001  44.090000  69.650002  30.74  171.679993  \n",
      "1  20.559999  32.060001  59.439999  23.32  178.279999  \n",
      "2  -8.270000   5.330000  45.180000   9.49  306.739990  \n",
      "3  15.480000  33.580002  69.620003  31.01  223.259995  \n",
      "4   8.380000  24.180000  55.869999  19.91  170.759995  \n",
      "pyarrow.Table\n",
      "Fp1: float\n",
      "F3: float\n",
      "C3: float\n",
      "P3: float\n",
      "F7: float\n",
      "T3: float\n",
      "T5: float\n",
      "O1: float\n",
      "Fz: float\n",
      "Cz: float\n",
      "Pz: float\n",
      "Fp2: float\n",
      "F4: float\n",
      "C4: float\n",
      "P4: float\n",
      "F8: float\n",
      "T4: float\n",
      "T6: float\n",
      "O2: float\n",
      "EKG: float\n",
      "----\n",
      "Fp1: [[9.21,-3.59,-26.04,-3.04,-4.63,...,-26.89,-24.05,-34.5,-16.11,-3.26]]\n",
      "F3: [[-47.46,-30.29,-60.07,-36.25,-20.16,...,-45.48,-41.69,-55.34,-35.98,-17.84]]\n",
      "C3: [[15.1,32.38,2.37,29.56,25.19,...,-17.25,-13.45,-25.96,-8.57,4.03]]\n",
      "P3: [[8.22,10.8,-10.15,14.53,1.19,...,-23.57,-26.22,-30.67,-12.02,-8.93]]\n",
      "F7: [[-16.9,-68.98,-34.69,-14.01,-44.58,...,19.06,14.21,8.89,28.58,34.27]]\n",
      "T3: [[-22.99,-21.6,-31.4,-11.9,-23.51,...,-9.4,0.02,-9.74,5.45,6.77]]\n",
      "T5: [[-25.82,-15.08,-31.92,-14.23,-30.71,...,-27.12,-30.03,-38.52,-20.51,-15.67]]\n",
      "O1: [[-10.09,-9.21,-26.98,-6.31,-17.6,...,-21.58,-22.22,-30.33,-10.3,-4.76]]\n",
      "Fz: [[28.37,26.36,-1.94,26.04,25.42,...,-75.76,-75.44,-87.08,-65.46,-52.93]]\n",
      "Cz: [[-3.01,-8.98,-28.77,-2.77,-8.86,...,-65.8,-68.64,-70.69,-50.73,-49.18]]\n",
      "...\n"
     ]
    }
   ],
   "source": [
    "import pyarrow.parquet as pq\n",
    "\n",
    "# Specify the path to your Parquet file\n",
    "parquet_file_path = '3911565283.parquet'\n",
    "\n",
    "#eeg = pd.read_parquet('')\n",
    "\n",
    "# Read the Parquet file into a PyArrow Table\n",
    "table = pq.read_table(parquet_file_path)\n",
    "\n",
    "# If you want to convert the table to a pandas DataFrame\n",
    "# You need to have pandas installed\n",
    "import pandas as pd\n",
    "\n",
    "# Convert the PyArrow Table to a pandas DataFrame\n",
    "df = table.to_pandas()\n",
    "\n",
    "# Now you can work with the DataFrame as usual\n",
    "print(df.head())\n",
    "\n",
    "print(table)"
   ]
  },
  {
   "cell_type": "code",
   "execution_count": 11,
   "metadata": {},
   "outputs": [],
   "source": [
    "EEG = df"
   ]
  },
  {
   "cell_type": "code",
   "execution_count": 47,
   "metadata": {},
   "outputs": [
    {
     "data": {
      "text/html": [
       "<div>\n",
       "<style scoped>\n",
       "    .dataframe tbody tr th:only-of-type {\n",
       "        vertical-align: middle;\n",
       "    }\n",
       "\n",
       "    .dataframe tbody tr th {\n",
       "        vertical-align: top;\n",
       "    }\n",
       "\n",
       "    .dataframe thead th {\n",
       "        text-align: right;\n",
       "    }\n",
       "</style>\n",
       "<table border=\"1\" class=\"dataframe\">\n",
       "  <thead>\n",
       "    <tr style=\"text-align: right;\">\n",
       "      <th></th>\n",
       "      <th>Fp1</th>\n",
       "    </tr>\n",
       "  </thead>\n",
       "  <tbody>\n",
       "    <tr>\n",
       "      <th>0</th>\n",
       "      <td>9.210000</td>\n",
       "    </tr>\n",
       "    <tr>\n",
       "      <th>1</th>\n",
       "      <td>-3.590000</td>\n",
       "    </tr>\n",
       "    <tr>\n",
       "      <th>2</th>\n",
       "      <td>-26.040001</td>\n",
       "    </tr>\n",
       "    <tr>\n",
       "      <th>3</th>\n",
       "      <td>-3.040000</td>\n",
       "    </tr>\n",
       "    <tr>\n",
       "      <th>4</th>\n",
       "      <td>-4.630000</td>\n",
       "    </tr>\n",
       "    <tr>\n",
       "      <th>...</th>\n",
       "      <td>...</td>\n",
       "    </tr>\n",
       "    <tr>\n",
       "      <th>9995</th>\n",
       "      <td>-26.889999</td>\n",
       "    </tr>\n",
       "    <tr>\n",
       "      <th>9996</th>\n",
       "      <td>-24.049999</td>\n",
       "    </tr>\n",
       "    <tr>\n",
       "      <th>9997</th>\n",
       "      <td>-34.500000</td>\n",
       "    </tr>\n",
       "    <tr>\n",
       "      <th>9998</th>\n",
       "      <td>-16.110001</td>\n",
       "    </tr>\n",
       "    <tr>\n",
       "      <th>9999</th>\n",
       "      <td>-3.260000</td>\n",
       "    </tr>\n",
       "  </tbody>\n",
       "</table>\n",
       "<p>10000 rows × 1 columns</p>\n",
       "</div>"
      ],
      "text/plain": [
       "            Fp1\n",
       "0      9.210000\n",
       "1     -3.590000\n",
       "2    -26.040001\n",
       "3     -3.040000\n",
       "4     -4.630000\n",
       "...         ...\n",
       "9995 -26.889999\n",
       "9996 -24.049999\n",
       "9997 -34.500000\n",
       "9998 -16.110001\n",
       "9999  -3.260000\n",
       "\n",
       "[10000 rows x 1 columns]"
      ]
     },
     "execution_count": 47,
     "metadata": {},
     "output_type": "execute_result"
    }
   ],
   "source": [
    "EEG[['Fp1']]"
   ]
  },
  {
   "cell_type": "code",
   "execution_count": 13,
   "metadata": {},
   "outputs": [],
   "source": [
    "middle = (len(EEG)-10_000)//2\n",
    "eeg = EEG.iloc[middle:middle+10_000]"
   ]
  },
  {
   "cell_type": "code",
   "execution_count": 15,
   "metadata": {},
   "outputs": [
    {
     "data": {
      "text/plain": [
       "(10000, 20)"
      ]
     },
     "execution_count": 15,
     "metadata": {},
     "output_type": "execute_result"
    }
   ],
   "source": [
    "EEG.shape"
   ]
  },
  {
   "cell_type": "code",
   "execution_count": 16,
   "metadata": {},
   "outputs": [
    {
     "data": {
      "text/plain": [
       "(10000, 20)"
      ]
     },
     "execution_count": 16,
     "metadata": {},
     "output_type": "execute_result"
    }
   ],
   "source": [
    "eeg.shape"
   ]
  },
  {
   "cell_type": "code",
   "execution_count": 20,
   "metadata": {},
   "outputs": [],
   "source": [
    "new_table=pq.read_table('1000086677.parquet')\n",
    "spect = new_table.to_pandas()"
   ]
  },
  {
   "cell_type": "code",
   "execution_count": 23,
   "metadata": {},
   "outputs": [
    {
     "data": {
      "text/plain": [
       "Index(['time', 'LL_0.59', 'LL_0.78', 'LL_0.98', 'LL_1.17', 'LL_1.37',\n",
       "       'LL_1.56', 'LL_1.76', 'LL_1.95', 'LL_2.15',\n",
       "       ...\n",
       "       'RP_18.16', 'RP_18.36', 'RP_18.55', 'RP_18.75', 'RP_18.95', 'RP_19.14',\n",
       "       'RP_19.34', 'RP_19.53', 'RP_19.73', 'RP_19.92'],\n",
       "      dtype='object', length=401)"
      ]
     },
     "execution_count": 23,
     "metadata": {},
     "output_type": "execute_result"
    }
   ],
   "source": [
    "spect.columns"
   ]
  },
  {
   "cell_type": "code",
   "execution_count": 22,
   "metadata": {},
   "outputs": [
    {
     "data": {
      "text/plain": [
       "(300, 401)"
      ]
     },
     "execution_count": 22,
     "metadata": {},
     "output_type": "execute_result"
    }
   ],
   "source": [
    "spect.shape"
   ]
  },
  {
   "cell_type": "code",
   "execution_count": 24,
   "metadata": {},
   "outputs": [],
   "source": [
    "FEATS = [['Fp1','F7','T3','T5','O1'],\n",
    "         ['Fp1','F3','C3','P3','O1'],\n",
    "         ['Fp2','F8','T4','T6','O2'],\n",
    "         ['Fp2','F4','C4','P4','O2'],]\n"
   ]
  },
  {
   "cell_type": "code",
   "execution_count": 38,
   "metadata": {},
   "outputs": [
    {
     "data": {
      "text/plain": [
       "'F4'"
      ]
     },
     "execution_count": 38,
     "metadata": {},
     "output_type": "execute_result"
    }
   ],
   "source": [
    "IO=FEATS[3]\n",
    "IO[1]"
   ]
  },
  {
   "cell_type": "code",
   "execution_count": 29,
   "metadata": {},
   "outputs": [],
   "source": [
    "import librosa"
   ]
  },
  {
   "cell_type": "code",
   "execution_count": 30,
   "metadata": {},
   "outputs": [],
   "source": [
    "from scipy.ndimage import gaussian_filter\n",
    "from scipy.signal import butter, filtfilt, firwin"
   ]
  },
  {
   "cell_type": "code",
   "execution_count": 39,
   "metadata": {},
   "outputs": [],
   "source": [
    "for k in range(4):\n",
    "        COLS = FEATS[k]\n",
    "        if k < 4:\n",
    "            for kk in range(4):\n",
    "        \n",
    "                # COMPUTE PAIR DIFFERENCES\n",
    "                \n",
    "                x = EEG[COLS[kk]].values - EEG[COLS[kk+1]].values\n",
    "                \n",
    "\n",
    "#x = EEG[COLS[kk]].values - EEG[COLS[kk+1]].values"
   ]
  },
  {
   "cell_type": "code",
   "execution_count": 40,
   "metadata": {},
   "outputs": [
    {
     "data": {
      "text/plain": [
       "array([-12.41    , -12.78    , -25.64    , ..., -52.12    , -50.050003,\n",
       "       -40.63    ], dtype=float32)"
      ]
     },
     "execution_count": 40,
     "metadata": {},
     "output_type": "execute_result"
    }
   ],
   "source": [
    "x"
   ]
  },
  {
   "cell_type": "code",
   "execution_count": 41,
   "metadata": {},
   "outputs": [
    {
     "data": {
      "text/plain": [
       "(10000,)"
      ]
     },
     "execution_count": 41,
     "metadata": {},
     "output_type": "execute_result"
    }
   ],
   "source": [
    "x.shape"
   ]
  },
  {
   "cell_type": "code",
   "execution_count": 75,
   "metadata": {},
   "outputs": [
    {
     "data": {
      "image/png": "[encoded data removed]",
      "text/plain": [
       "<Figure size 1000x500 with 1 Axes>"
      ]
     },
     "metadata": {},
     "output_type": "display_data"
    }
   ],
   "source": [
    "import numpy as np\n",
    "import pandas as pd\n",
    "from scipy import signal\n",
    "import matplotlib.pyplot as plt\n",
    "\n",
    "# Assuming EEG is your DataFrame and 'EKG' is the column containing the ECG signal\n",
    "ecg = EEG['EKG']\n",
    "\n",
    "# Sampling frequency\n",
    "fs = 200  # Hz\n",
    "\n",
    "# Apply high-pass filter for baseline removal\n",
    "cutoff_freq = 0.5  # cutoff frequency in Hz\n",
    "b, a = signal.butter(2, cutoff_freq / (0.5 * fs), 'high')\n",
    "baseline_removed_ecg = signal.filtfilt(b, a, ecg)\n",
    "\n",
    "# Time array\n",
    "T = np.arange(len(ecg)) / fs\n",
    "\n",
    "# Plotting\n",
    "plt.figure(figsize=(10, 5))\n",
    "#plt.plot(T, ecg, label='Original ECG')\n",
    "plt.plot(T, baseline_removed_ecg, label='Baseline Removed ECG')\n",
    "plt.xlabel('Time (s)')\n",
    "plt.ylabel('Amplitude')\n",
    "plt.title('ECG Baseline Removal')\n",
    "plt.legend()\n",
    "plt.grid(True)\n",
    "plt.show()\n"
   ]
  },
  {
   "cell_type": "code",
   "execution_count": 71,
   "metadata": {},
   "outputs": [
    {
     "data": {
      "text/plain": [
       "array([ 0.99778102, -1.99556205,  0.99778102])"
      ]
     },
     "execution_count": 71,
     "metadata": {},
     "output_type": "execute_result"
    }
   ],
   "source": [
    "b"
   ]
  },
  {
   "cell_type": "code",
   "execution_count": 72,
   "metadata": {},
   "outputs": [
    {
     "data": {
      "text/plain": [
       "array([ 1.        , -1.99555712,  0.99556697])"
      ]
     },
     "execution_count": 72,
     "metadata": {},
     "output_type": "execute_result"
    }
   ],
   "source": [
    "a"
   ]
  },
  {
   "cell_type": "code",
   "execution_count": null,
   "metadata": {},
   "outputs": [],
   "source": []
  }
 ],
 "metadata": {
  "kernelspec": {
   "display_name": "Python 3",
   "language": "python",
   "name": "python3"
  },
  "language_info": {
   "codemirror_mode": {
    "name": "ipython",
    "version": 3
   },
   "file_extension": ".py",
   "mimetype": "text/x-python",
   "name": "python",
   "nbconvert_exporter": "python",
   "pygments_lexer": "ipython3",
   "version": "3.12.1"
  }
 },
 "nbformat": 4,
 "nbformat_minor": 2
}
